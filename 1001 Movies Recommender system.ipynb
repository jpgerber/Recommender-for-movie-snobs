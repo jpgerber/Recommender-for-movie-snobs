{
 "cells": [
  {
   "cell_type": "markdown",
   "metadata": {},
   "source": [
    "# Movie Recommendations via 1,001 movies"
   ]
  },
  {
   "cell_type": "markdown",
   "metadata": {},
   "source": [
    "## Introduction\n",
    "\n",
    "This project examines how to improve the precision of recommender systems for movie snobs.\n",
    "\n",
    "I will go through the following tasks:\n",
    "1. Collate the 1,001 Movies list (this will involve some wrangling)\n",
    "2. Select a dataset that has most of the 1,001 Movies in it\n",
    "3. Do some baseline modeling\n",
    "4. Run a baseline model and then a model with 1,001 as a topic/rating.\n",
    "5. Compare the models (with a 10% holdout set)\n",
    "6. Try various models until we can predict the difference between The Dark Knight and The Dekalog (good blog post title right there)\n",
    "\n",
    "Other ideas:\n",
    "1. Work out how long it takes for something to be canonical and then use this as a bias adjustment.\n"
   ]
  },
  {
   "cell_type": "markdown",
   "metadata": {},
   "source": [
    "### Importing the right packages and data etc."
   ]
  },
  {
   "cell_type": "markdown",
   "metadata": {},
   "source": [
    "There are five datasets of relevance on the Grouplens website.\n",
    "\n",
    "| Name | Movies | Userdata | Release date |\n",
    "| --- | --- | --- | --- |\n",
    "| New research | 27K | None | 2016 |\n",
    "| Education (small) | 9K | None | 2018 |\n",
    "| Education (large) | 58K | None | 2018 |\n",
    "| Older (100K) | 1.7K | age, gender, occupation, zip | 1998 |\n",
    "| Older (1M) |  4K | age, gender, occupation, zip | 2003 |\n",
    "\n",
    "The latter two are useful for identifying people, the second and fourth are best if trying to look at changes in movie status across time.\n",
    "\n",
    "The relative percentages of the 1,001 Movies in each are ....\n"
   ]
  },
  {
   "cell_type": "code",
   "execution_count": null,
   "metadata": {},
   "outputs": [],
   "source": [
    "# Importing the right packages\n",
    "import turicreate as tc\n",
    "import pandas as pd\n",
    "\n",
    "# Importing the data as SFrames\n",
    "small_set = tc.SFrame.read_csv('./springboard/)\n",
    "large_set = tc.SFrame.read_csv('./springboard/)\n",
    "# there are three main datasets, one for research with 20m, and a small one (9K) and large for development (58K)        \n",
    "genome_score                               \n",
    "genome_tags\n",
    "links\n",
    "movies\n",
    "ratings\n",
    "tags\n",
    "# Working out how many of the 1,001 are in the Grouplens sets\n",
    "#20m has 27,000 movies\n",
    "#"
   ]
  },
  {
   "cell_type": "markdown",
   "metadata": {},
   "source": [
    "### Running a basic model\n"
   ]
  },
  {
   "cell_type": "code",
   "execution_count": null,
   "metadata": {},
   "outputs": [],
   "source": [
    "training_data, validation_data = tc.recommender.util.random_split_by_user(actions, 'userId', 'movieId')\n",
    "baseline_model = tc.recommender.create(training_data, 'userId', 'movieId')"
   ]
  },
  {
   "cell_type": "code",
   "execution_count": null,
   "metadata": {},
   "outputs": [],
   "source": [
    "print(training_data.head())"
   ]
  },
  {
   "cell_type": "code",
   "execution_count": null,
   "metadata": {},
   "outputs": [],
   "source": [
    "ratings_model = tc.recommender.create(training_data, 'userId', 'movieId', target='rating')"
   ]
  },
  {
   "cell_type": "markdown",
   "metadata": {},
   "source": [
    "## Comparing the two models"
   ]
  },
  {
   "cell_type": "code",
   "execution_count": null,
   "metadata": {},
   "outputs": [],
   "source": [
    "comparer = tc.recommender.util.compare_models(validation_data, [baseline_model, ratings_model])"
   ]
  },
  {
   "cell_type": "code",
   "execution_count": null,
   "metadata": {},
   "outputs": [],
   "source": [
    "References:\n",
    "The basic user guide             https://apple.github.io/turicreate/docs/userguide/recommender/\n",
    "The recommender documentation    https://apple.github.io/turicreate/docs/api/turicreate.toolkits.recommender.html"
   ]
  }
 ],
 "metadata": {
  "kernelspec": {
   "display_name": "Python 3",
   "language": "python",
   "name": "python3"
  },
  "language_info": {
   "codemirror_mode": {
    "name": "ipython",
    "version": 3
   },
   "file_extension": ".py",
   "mimetype": "text/x-python",
   "name": "python",
   "nbconvert_exporter": "python",
   "pygments_lexer": "ipython3",
   "version": "3.7.3"
  }
 },
 "nbformat": 4,
 "nbformat_minor": 2
}
