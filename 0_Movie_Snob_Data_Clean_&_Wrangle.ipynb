{
  "nbformat": 4,
  "nbformat_minor": 0,
  "metadata": {
    "colab": {
      "name": "0 Movie Snob - Data Clean & Wrangle.ipynb",
      "provenance": [],
      "authorship_tag": "ABX9TyMkXQrjRbWJVfl/IBIfk0wM",
      "include_colab_link": true
    },
    "kernelspec": {
      "name": "python3",
      "display_name": "Python 3"
    }
  },
  "cells": [
    {
      "cell_type": "markdown",
      "metadata": {
        "id": "view-in-github",
        "colab_type": "text"
      },
      "source": [
        "<a href=\"https://colab.research.google.com/github/jpgerber/Recommender-for-movie-snobs/blob/master/0_Movie_Snob_Data_Clean_%26_Wrangle.ipynb\" target=\"_parent\"><img src=\"https://colab.research.google.com/assets/colab-badge.svg\" alt=\"Open In Colab\"/></a>"
      ]
    },
    {
      "cell_type": "markdown",
      "metadata": {
        "id": "De4K4_JTy55Y",
        "colab_type": "text"
      },
      "source": [
        "# This notebook cleans and combines the MovieLens data with a canonical movie list."
      ]
    },
    {
      "cell_type": "code",
      "metadata": {
        "id": "VHeXVgjNB6Jt",
        "colab_type": "code",
        "colab": {}
      },
      "source": [
        "import pandas as pd\n",
        "import numpy as np\n",
        "import requests\n",
        "from bs4 import BeautifulSoup\n",
        "import zipfile, io\n",
        "\n",
        "# Make the canonical list\n",
        "# Importing the 1,001 list and converting it to a list\n",
        "snob_url = 'https://1001films.fandom.com/wiki/The_List'\n",
        "snob_text= requests.get(snob_url)\n",
        "soup = BeautifulSoup(snob_text.content, 'html.parser')\n",
        "basic_list = (soup.body.find_all('b'))\n",
        "thousand_list = [item.text for item in basic_list]\n",
        "thousandone_movies = pd.DataFrame(thousand_list, columns = ['title']).drop(0) # Convert to df\n"
      ],
      "execution_count": 5,
      "outputs": []
    },
    {
      "cell_type": "code",
      "metadata": {
        "id": "Vm15s-2LxVr0",
        "colab_type": "code",
        "colab": {}
      },
      "source": [
        "# Get the MovieLens dataset\n",
        "# Importing the ratings data\n",
        "# First download and extract the files (there's a bunch so use a list and loop)\n",
        "list_of_urls = ['http://files.grouplens.org/datasets/movielens/ml-latest.zip']\n",
        "for url in list_of_urls:\n",
        "    ratings_small_file = requests.get(url)\n",
        "    z = zipfile.ZipFile(io.BytesIO(ratings_small_file.content))\n",
        "    z.extractall()\n",
        "\n",
        "ed_large_movies = pd.read_csv('ml-latest/movies.csv', sep = ',', header = 0) # Make the df\n"
      ],
      "execution_count": 7,
      "outputs": []
    },
    {
      "cell_type": "markdown",
      "metadata": {
        "id": "tRcLEUWLzSs_",
        "colab_type": "text"
      },
      "source": [
        "##### There will be lots of different types of cleaning.\n",
        "First, extract the year of release from the string titles"
      ]
    },
    {
      "cell_type": "code",
      "metadata": {
        "id": "BxaoRko0x2yP",
        "colab_type": "code",
        "colab": {}
      },
      "source": [
        "# Create columns of movie years in each database\n",
        "# Make sure the titles don't have trailing spaces\n",
        "thousandone_movies['title'] = thousandone_movies['title'].str.rstrip()\n",
        "ed_large_movies['title'] = ed_large_movies['title'].str.rstrip()\n",
        "# Then take the slices (the years are in parantheses at the end of the title)\n",
        "thousandone_movies['year'] = [title[slice(-5,-1)] for title in thousandone_movies['title']]\n",
        "ed_large_movies['year'] = [title[slice(-5,-1)] for title in ed_large_movies['title']]\n",
        "\n",
        "# Then convert these strings to numbers (there is one title missing a year!)\n",
        "# Define a conversion function\n",
        "def ConvertYear(value):\n",
        "    '''This function converts integer strings to integers and non-integer strings to zero'''\n",
        "    try:\n",
        "        return int(value)\n",
        "    except: \n",
        "        return 0\n",
        "# Then apply it to the columns for both thousandone_movies and ed_choices\n",
        "thousandone_movies['year'] = thousandone_movies['year'].apply(lambda year: ConvertYear(\n",
        "    year))\n",
        "ed_large_movies['year'] = ed_large_movies['year'].apply(lambda year: ConvertYear(year))\n"
      ],
      "execution_count": 11,
      "outputs": []
    },
    {
      "cell_type": "markdown",
      "metadata": {
        "id": "rgo3UUMUy8lX",
        "colab_type": "text"
      },
      "source": [
        "Then make a custom function to test three years at a time and return the best string match."
      ]
    },
    {
      "cell_type": "code",
      "metadata": {
        "id": "QbKbafa3x536",
        "colab_type": "code",
        "colab": {
          "base_uri": "https://localhost:8080/",
          "height": 139
        },
        "outputId": "cea15512-52ec-4774-b2f8-a9cb3a4ce992"
      },
      "source": [
        "!pip install fuzzywuzzy \n",
        "from fuzzywuzzy import fuzz\n",
        "from fuzzywuzzy import process\n",
        "# Specify the matching function (we only need one of the outputs)\n",
        "def Matcher(title, choices):\n",
        "    title_match, percent_match, match3 = process.extractOne(title, choices)\n",
        "    return title_match\n",
        "# And here's a function for using the tokenizer\n",
        "def Matcher_token(title, choices):\n",
        "    title_match, percent_match, match3 = process.extractOne(title, choices, \n",
        "                                                            scorer=fuzz.token_sort_ratio)\n",
        "    return title_match\n",
        "\n",
        "#Define a filter to return targets for +/-1 year only\n",
        "def YearFilter (year):\n",
        "    years = [year-1, year, year+1]\n",
        "    return ed_large_movies[ed_large_movies.year.isin(years)].title\n",
        "\n",
        "# Running the tokenizer over the filtered target set\n",
        "for index, row in thousandone_movies.iterrows():\n",
        "    # call the filter\n",
        "    targets = YearFilter(row.year)\n",
        "    # update the new cell work out the matcher\n",
        "    thousandone_movies.loc[index,'return_match'] = Matcher_token(row.title, targets)\n"
      ],
      "execution_count": 15,
      "outputs": [
        {
          "output_type": "stream",
          "text": [
            "Collecting fuzzywuzzy\n",
            "  Downloading https://files.pythonhosted.org/packages/43/ff/74f23998ad2f93b945c0309f825be92e04e0348e062026998b5eefef4c33/fuzzywuzzy-0.18.0-py2.py3-none-any.whl\n",
            "Installing collected packages: fuzzywuzzy\n",
            "Successfully installed fuzzywuzzy-0.18.0\n"
          ],
          "name": "stdout"
        },
        {
          "output_type": "stream",
          "text": [
            "/usr/local/lib/python3.6/dist-packages/fuzzywuzzy/fuzz.py:11: UserWarning: Using slow pure-python SequenceMatcher. Install python-Levenshtein to remove this warning\n",
            "  warnings.warn('Using slow pure-python SequenceMatcher. Install python-Levenshtein to remove this warning')\n"
          ],
          "name": "stderr"
        }
      ]
    },
    {
      "cell_type": "markdown",
      "metadata": {
        "id": "hgPklSsX0SNf",
        "colab_type": "text"
      },
      "source": [
        "Now hand-code the mismatches..."
      ]
    },
    {
      "cell_type": "code",
      "metadata": {
        "id": "0d5nOhhF0uxF",
        "colab_type": "code",
        "colab": {
          "base_uri": "https://localhost:8080/",
          "height": 204
        },
        "outputId": "d573edb8-c8da-4a95-e8f9-6724c892c28f"
      },
      "source": [
        "thousandone_movies.head()"
      ],
      "execution_count": 18,
      "outputs": [
        {
          "output_type": "execute_result",
          "data": {
            "text/html": [
              "<div>\n",
              "<style scoped>\n",
              "    .dataframe tbody tr th:only-of-type {\n",
              "        vertical-align: middle;\n",
              "    }\n",
              "\n",
              "    .dataframe tbody tr th {\n",
              "        vertical-align: top;\n",
              "    }\n",
              "\n",
              "    .dataframe thead th {\n",
              "        text-align: right;\n",
              "    }\n",
              "</style>\n",
              "<table border=\"1\" class=\"dataframe\">\n",
              "  <thead>\n",
              "    <tr style=\"text-align: right;\">\n",
              "      <th></th>\n",
              "      <th>title</th>\n",
              "      <th>year</th>\n",
              "      <th>return_match</th>\n",
              "    </tr>\n",
              "  </thead>\n",
              "  <tbody>\n",
              "    <tr>\n",
              "      <th>1</th>\n",
              "      <td>A Trip to the Moon (Le Voyage Dans La Lune) (1...</td>\n",
              "      <td>1902</td>\n",
              "      <td>Trip to the Moon, A (Voyage dans la lune, Le) ...</td>\n",
              "    </tr>\n",
              "    <tr>\n",
              "      <th>2</th>\n",
              "      <td>The Great Train Robbery (1903)</td>\n",
              "      <td>1903</td>\n",
              "      <td>The Great Train Robbery (1903)</td>\n",
              "    </tr>\n",
              "    <tr>\n",
              "      <th>3</th>\n",
              "      <td>The Birth of a Nation (1915)</td>\n",
              "      <td>1915</td>\n",
              "      <td>Birth of a Nation, The (1915)</td>\n",
              "    </tr>\n",
              "    <tr>\n",
              "      <th>4</th>\n",
              "      <td>Les Vampires (1915)</td>\n",
              "      <td>1915</td>\n",
              "      <td>Vampires, Les (1915)</td>\n",
              "    </tr>\n",
              "    <tr>\n",
              "      <th>5</th>\n",
              "      <td>Intolerance (1916)</td>\n",
              "      <td>1916</td>\n",
              "      <td>Police (1916)</td>\n",
              "    </tr>\n",
              "  </tbody>\n",
              "</table>\n",
              "</div>"
            ],
            "text/plain": [
              "                                               title  ...                                       return_match\n",
              "1  A Trip to the Moon (Le Voyage Dans La Lune) (1...  ...  Trip to the Moon, A (Voyage dans la lune, Le) ...\n",
              "2                     The Great Train Robbery (1903)  ...                     The Great Train Robbery (1903)\n",
              "3                       The Birth of a Nation (1915)  ...                      Birth of a Nation, The (1915)\n",
              "4                                Les Vampires (1915)  ...                               Vampires, Les (1915)\n",
              "5                                 Intolerance (1916)  ...                                      Police (1916)\n",
              "\n",
              "[5 rows x 3 columns]"
            ]
          },
          "metadata": {
            "tags": []
          },
          "execution_count": 18
        }
      ]
    },
    {
      "cell_type": "code",
      "metadata": {
        "id": "iFS7OuiiB7yL",
        "colab_type": "code",
        "colab": {}
      },
      "source": [
        "\n",
        "Intolerance (1916)\n",
        "Broken Blossoms (1919)\n",
        "Häxan (1923)\n",
        "Sunrise (1927)\n",
        "The Unknown (1927)\n",
        "A Throw of Dice (Prapancha Pash) (1929)\n",
        "Tabu (1931)\n",
        "The Vampire (Vampyr) (1932)\n",
        "Scarface: The Shame of a Nation (1932)\n",
        "Midnight Song (Ye Ban Ge Sheng) (1937)\n",
        "Henry V (1944)\n",
        "The Battle of San Pietro (1945)\n",
        "Gun Crazy (1949)\n",
        "Sunset Blvd. (1950)\n",
        "Europa '51 (1952)\n",
        "Tokyo Story (1953)\n",
        "The Wanton Countess (Senso) (1954)\n",
        "The Sins of Lola Montes (Lola Montès) (1955)\n",
        "Pather Panchali (1955)\n",
        "Ordet (1955)\n",
        "Hill 24 Doesn't Answer (1955)\n",
        "Dracula (1958)\n",
        "Dog Star Man\n",
        "Blonde Cobra (1963)\n",
        "Playtime (1967)\n",
        "Week End (1967)\n",
        "Viy (1967)\n",
        "Andrei Rublev (Andrei Rublyov) (1966)\n",
        "A Touch of Zen (Hsia Nu) (1969)\n",
        "M*A*S*H (1970)\n",
        "The Sorrow and the Pity (La Chagrin et la Pitié) (1971)\n",
        "Ceddo (1977)\n",
        "Up in Smoke (1978)\n",
        "Raiders of the Lost Ark (1981)\n",
        "Yol (1982)\n",
        "Koyaanisqatsi (1983)\n",
        "The Naked Gun (1988)\n",
        "Henry: Portrait of a Serial Killer (1990)\n",
        "The Actress (Yuen Ling-Yuk) (1992)\n",
        "Hana-Bi (1997)\n",
        "Buffalo '66 (1998)\n",
        "Tetsuo (1989)\n",
        "A One and a Two (Yi Yi) (2000)\n",
        "Y Tu Mama Tambien (2001)\n",
        "Oldboy (2003)\n",
        "Paranormal Activity (2007)\n",
        "Precious: Based on the Novel \"Push\" by Sapphire (2009)\n",
        "The Favourite (2018)\n",
        "Vice (2018)"
      ],
      "execution_count": 2,
      "outputs": []
    },
    {
      "cell_type": "code",
      "metadata": {
        "id": "KGVhw3PEqY0q",
        "colab_type": "code",
        "colab": {
          "base_uri": "https://localhost:8080/",
          "height": 34
        },
        "outputId": "56fb6ff4-3843-4634-f24a-9c4fd8dec501"
      },
      "source": [
        ""
      ],
      "execution_count": 3,
      "outputs": [
        {
          "output_type": "stream",
          "text": [
            "hi google drive!"
          ],
          "name": "stdout"
        }
      ]
    },
    {
      "cell_type": "markdown",
      "metadata": {
        "id": "1dmNIWGz0lMP",
        "colab_type": "text"
      },
      "source": [
        "Join the canonical list to the ratings list"
      ]
    },
    {
      "cell_type": "code",
      "metadata": {
        "id": "BW9z6wOgqrd7",
        "colab_type": "code",
        "colab": {}
      },
      "source": [
        "# Add the indicator variable to the canonical list.\n",
        "thousandone_movies['canonical'] = 1\n",
        "#print(thousandone_movies.head())\n",
        "\n",
        "# Add the canonical indicator to the movie file, drop the irrelevant columns \n",
        "#and fill the missing values with zeroes\n",
        "ed_large_movies = pd.merge(ed_large_movies, thousandone_movies, left_on='title', right_on='return_match', how='outer', \n",
        "         suffixes=('', '_canon')).drop(['year_canon', \n",
        "                                        'return_match', 'title_canon'], axis=1).fillna({'canonical':0})\n",
        "\n",
        "print(ed_large_movies.head())"
      ],
      "execution_count": 4,
      "outputs": []
    },
    {
      "cell_type": "code",
      "metadata": {
        "id": "Dezz4x4wsxYo",
        "colab_type": "code",
        "colab": {
          "base_uri": "https://localhost:8080/",
          "height": 80
        },
        "outputId": "4cf7a227-a0d4-4b4c-c638-7481b2d6ab5e"
      },
      "source": [
        "ed_large_movies[ed_large_movies['title'].str.match('Intolerance')]"
      ],
      "execution_count": 24,
      "outputs": [
        {
          "output_type": "execute_result",
          "data": {
            "text/html": [
              "<div>\n",
              "<style scoped>\n",
              "    .dataframe tbody tr th:only-of-type {\n",
              "        vertical-align: middle;\n",
              "    }\n",
              "\n",
              "    .dataframe tbody tr th {\n",
              "        vertical-align: top;\n",
              "    }\n",
              "\n",
              "    .dataframe thead th {\n",
              "        text-align: right;\n",
              "    }\n",
              "</style>\n",
              "<table border=\"1\" class=\"dataframe\">\n",
              "  <thead>\n",
              "    <tr style=\"text-align: right;\">\n",
              "      <th></th>\n",
              "      <th>movieId</th>\n",
              "      <th>title</th>\n",
              "      <th>genres</th>\n",
              "      <th>year</th>\n",
              "    </tr>\n",
              "  </thead>\n",
              "  <tbody>\n",
              "    <tr>\n",
              "      <th>7132</th>\n",
              "      <td>7243</td>\n",
              "      <td>Intolerance: Love's Struggle Throughout the Ag...</td>\n",
              "      <td>Drama</td>\n",
              "      <td>1916</td>\n",
              "    </tr>\n",
              "  </tbody>\n",
              "</table>\n",
              "</div>"
            ],
            "text/plain": [
              "      movieId                                              title genres  year\n",
              "7132     7243  Intolerance: Love's Struggle Throughout the Ag...  Drama  1916"
            ]
          },
          "metadata": {
            "tags": []
          },
          "execution_count": 24
        }
      ]
    },
    {
      "cell_type": "code",
      "metadata": {
        "id": "1VgweeXP07c8",
        "colab_type": "code",
        "colab": {}
      },
      "source": [
        ""
      ],
      "execution_count": null,
      "outputs": []
    }
  ]
}