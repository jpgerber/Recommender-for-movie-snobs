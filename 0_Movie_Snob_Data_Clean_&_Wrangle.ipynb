{
  "nbformat": 4,
  "nbformat_minor": 0,
  "metadata": {
    "colab": {
      "name": "0 Movie Snob - Data Clean & Wrangle.ipynb",
      "provenance": [],
      "collapsed_sections": [],
      "toc_visible": true,
      "authorship_tag": "ABX9TyPvTKl8e4d/okt0BwCt8eQD",
      "include_colab_link": true
    },
    "kernelspec": {
      "name": "python3",
      "display_name": "Python 3"
    }
  },
  "cells": [
    {
      "cell_type": "markdown",
      "metadata": {
        "id": "view-in-github",
        "colab_type": "text"
      },
      "source": [
        "<a href=\"https://colab.research.google.com/github/jpgerber/Recommender-for-movie-snobs/blob/master/0_Movie_Snob_Data_Clean_%26_Wrangle.ipynb\" target=\"_parent\"><img src=\"https://colab.research.google.com/assets/colab-badge.svg\" alt=\"Open In Colab\"/></a>"
      ]
    },
    {
      "cell_type": "markdown",
      "metadata": {
        "id": "De4K4_JTy55Y",
        "colab_type": "text"
      },
      "source": [
        "# This notebook preps the datafiles for the movie snob recommender ML.\n",
        "It first makes a file that adds canonical status to the ratings file.\n",
        "<p>Then, we make the indicators of snobbery.\n",
        "<p>Both of these are saved to my Google Drive.\n"
      ]
    },
    {
      "cell_type": "code",
      "metadata": {
        "id": "VHeXVgjNB6Jt",
        "colab_type": "code",
        "colab": {
          "base_uri": "https://localhost:8080/",
          "height": 34
        },
        "outputId": "7e896cf8-66ec-4500-dc53-2a6b76f45b6d"
      },
      "source": [
        "import pandas as pd\n",
        "import numpy as np\n",
        "import requests\n",
        "from bs4 import BeautifulSoup\n",
        "import zipfile, io\n",
        "\n",
        "from google.colab import drive\n",
        "drive.mount('/content/gdrive', force_remount=True)"
      ],
      "execution_count": 1,
      "outputs": [
        {
          "output_type": "stream",
          "text": [
            "Mounted at /content/gdrive\n"
          ],
          "name": "stdout"
        }
      ]
    },
    {
      "cell_type": "markdown",
      "metadata": {
        "id": "5C4iecoB3f6k",
        "colab_type": "text"
      },
      "source": [
        "#### First stage is to add the canonical indicator to the movie titles file"
      ]
    },
    {
      "cell_type": "code",
      "metadata": {
        "id": "LhyEvRJBIM5x",
        "colab_type": "code",
        "colab": {}
      },
      "source": [
        "# Make the canonical list\n",
        "# Importing the 1,001 list and converting it to a list\n",
        "snob_url = 'https://1001films.fandom.com/wiki/The_List'\n",
        "snob_text= requests.get(snob_url)\n",
        "soup = BeautifulSoup(snob_text.content, 'html.parser')\n",
        "basic_list = (soup.body.find_all('b'))\n",
        "thousand_list = [item.text for item in basic_list]\n",
        "thousandone_movies = pd.DataFrame(thousand_list, columns = ['title']).drop(0) # Convert to df\n"
      ],
      "execution_count": 2,
      "outputs": []
    },
    {
      "cell_type": "code",
      "metadata": {
        "id": "Vm15s-2LxVr0",
        "colab_type": "code",
        "colab": {}
      },
      "source": [
        "# Get the MovieLens dataset\n",
        "# Importing the ratings data\n",
        "list_of_urls = ['http://files.grouplens.org/datasets/movielens/ml-latest.zip'] # I originally checked several files\n",
        "for url in list_of_urls:\n",
        "    ratings_small_file = requests.get(url)\n",
        "    z = zipfile.ZipFile(io.BytesIO(ratings_small_file.content))\n",
        "    z.extractall()\n",
        "\n",
        "gl_movies = pd.read_csv('ml-latest/movies.csv', sep = ',', header = 0) # Make the df\n"
      ],
      "execution_count": 3,
      "outputs": []
    },
    {
      "cell_type": "markdown",
      "metadata": {
        "id": "tRcLEUWLzSs_",
        "colab_type": "text"
      },
      "source": [
        "##### There will be some different types of cleaning.\n",
        "First, extract the year of release from the string titles to enable easier title matching"
      ]
    },
    {
      "cell_type": "code",
      "metadata": {
        "id": "BxaoRko0x2yP",
        "colab_type": "code",
        "colab": {}
      },
      "source": [
        "# Create columns of movie years in each database\n",
        "# Make sure the titles don't have trailing spaces\n",
        "thousandone_movies['title'] = thousandone_movies['title'].str.rstrip()\n",
        "gl_movies['title'] = gl_movies['title'].str.rstrip()\n",
        "# Then take the slices (the years are in parantheses at the end of the title)\n",
        "thousandone_movies['year'] = [title[slice(-5,-1)] for title in thousandone_movies['title']]\n",
        "gl_movies['year'] = [title[slice(-5,-1)] for title in gl_movies['title']]\n",
        "\n",
        "# Then convert these strings to numbers (there is one title missing a year!)\n",
        "# Define a conversion function\n",
        "def ConvertYear(value):\n",
        "    '''This function converts integer strings to integers and non-integer strings to zero'''\n",
        "    try:\n",
        "        return int(value)\n",
        "    except: \n",
        "        return 0\n",
        "# Then apply it to the columns for both thousandone_movies and ed_choices\n",
        "thousandone_movies['year'] = thousandone_movies['year'].apply(lambda year: ConvertYear(\n",
        "    year))\n",
        "gl_movies['year'] = gl_movies['year'].apply(lambda year: ConvertYear(year))\n"
      ],
      "execution_count": 4,
      "outputs": []
    },
    {
      "cell_type": "markdown",
      "metadata": {
        "id": "rgo3UUMUy8lX",
        "colab_type": "text"
      },
      "source": [
        "Then make a custom function to select a three-year window to more efficiently do string matching.\n",
        "Then run that matching"
      ]
    },
    {
      "cell_type": "code",
      "metadata": {
        "id": "QbKbafa3x536",
        "colab_type": "code",
        "colab": {
          "base_uri": "https://localhost:8080/",
          "height": 88
        },
        "outputId": "ae2501d9-44ed-43de-b067-11df4ad25810"
      },
      "source": [
        "!pip install fuzzywuzzy \n",
        "from fuzzywuzzy import fuzz\n",
        "from fuzzywuzzy import process\n",
        "# Specify the matching function (we only need one of the outputs)\n",
        "def Matcher(title, choices):\n",
        "    title_match, percent_match, match3 = process.extractOne(title, choices)\n",
        "    return title_match\n",
        "# And here's a function for using the tokenizer\n",
        "def Matcher_token(title, choices):\n",
        "    title_match, percent_match, match3 = process.extractOne(title, choices, \n",
        "                                                            scorer=fuzz.token_sort_ratio)\n",
        "    return title_match\n",
        "\n",
        "#Define a filter to return targets for +/-1 year only\n",
        "def YearFilter (year):\n",
        "    years = [year-1, year, year+1]\n",
        "    return gl_movies[gl_movies.year.isin(years)].title\n",
        "\n",
        "# Running the tokenizer over the filtered target set\n",
        "for index, row in thousandone_movies.iterrows():\n",
        "    # call the filter\n",
        "    targets = YearFilter(row.year)\n",
        "    # update the new cell work out the matcher\n",
        "    thousandone_movies.loc[index,'return_match'] = Matcher_token(row.title, targets)\n"
      ],
      "execution_count": 5,
      "outputs": [
        {
          "output_type": "stream",
          "text": [
            "Requirement already satisfied: fuzzywuzzy in /usr/local/lib/python3.6/dist-packages (0.18.0)\n"
          ],
          "name": "stdout"
        },
        {
          "output_type": "stream",
          "text": [
            "/usr/local/lib/python3.6/dist-packages/fuzzywuzzy/fuzz.py:11: UserWarning: Using slow pure-python SequenceMatcher. Install python-Levenshtein to remove this warning\n",
            "  warnings.warn('Using slow pure-python SequenceMatcher. Install python-Levenshtein to remove this warning')\n"
          ],
          "name": "stderr"
        }
      ]
    },
    {
      "cell_type": "markdown",
      "metadata": {
        "id": "iFS7OuiiB7yL",
        "colab_type": "text"
      },
      "source": [
        "\n",
        "The following movies were misidentified and so needed re-coding\n",
        "Intolerance (1916) - 7243\n",
        "Broken Blossoms (1919) - 6988\n",
        "Häxan (1923) - 25744\n",
        "Sunrise (1927) - 8125\n",
        "The Unknown (1927) - 25762\n",
        "A Throw of Dice (Prapancha Pash) (1929) - NONE\n",
        "Tabu (1931) - 5599\n",
        "The Vampire (Vampyr) (1932) - 25793\n",
        "Scarface: The Shame of a Nation (1932) - 25788\n",
        "Midnight Song (Ye Ban Ge Sheng) (1937) - None\n",
        "Henry V (1944) - 25901\n",
        "The Battle of San Pietro (1945) - 80104\n",
        "Gun Crazy (1949) - 8751\n",
        "Sunset Blvd. (1950) - 922\n",
        "Europa '51 (1952) - 25966\n",
        "Tokyo Story (1953) - 6643\n",
        "The Wanton Countess (Senso) (1954) - 69911\n",
        "The Sins of Lola Montes (Lola Montès) (1955) - 8143\n",
        "Pather Panchali (1955) - 668\n",
        "Ordet (1955) - 6981\n",
        "Hill 24 Doesn't Answer (1955) - NONE\n",
        "Dracula (1958) - 5649\n",
        "Dog Star Man - 137579\t137581\t137583\t137585\t137587\n",
        "Blonde Cobra (1963) - None\n",
        "Playtime (1967) - 26171\n",
        "Week End (1967) - 7749\n",
        "Viy (1967) - 97065\n",
        "Andrei Rublev (Andrei Rublyov) (1966) - 26150\n",
        "A Touch of Zen (Hsia Nu) (1969) - 32511\n",
        "M*A*S*H (1970) - 5060\n",
        "The Sorrow and the Pity (La Chagrin et la Pitié) (1971) - 32853\n",
        "Ceddo (1977) - 71973\n",
        "Up in Smoke (1978) - 1194\n",
        "Raiders of the Lost Ark (1981) - 1198\n",
        "Yol (1982) - 6151\n",
        "Koyaanisqatsi (1983) - 1289\n",
        "The Naked Gun (1988) - 3868\n",
        "Henry: Portrait of a Serial Killer (1990) - 2159\n",
        "The Actress (Yuen Ling-Yuk) (1992) - 114394\n",
        "Hana-Bi (1997) - 1809\n",
        "Buffalo '66 (1998) - 1916\n",
        "Tetsuo (1989) - 4552\n",
        "A One and a Two (Yi Yi) (2000) - 4334\n",
        "Y Tu Mama Tambien (2001) - 5225\n",
        "Oldboy (2003) - 107314\n",
        "Paranormal Activity (2007) - 71379\n",
        "Precious: Based on the Novel \"Push\" by Sapphire (2009) - 72395\n",
        "The Favourite (2018) - 183837\n",
        "Vice (2018) - 127323"
      ]
    },
    {
      "cell_type": "markdown",
      "metadata": {
        "id": "1dmNIWGz0lMP",
        "colab_type": "text"
      },
      "source": [
        "Join the canonical indicators list to the titles file."
      ]
    },
    {
      "cell_type": "code",
      "metadata": {
        "id": "BW9z6wOgqrd7",
        "colab_type": "code",
        "colab": {
          "base_uri": "https://localhost:8080/",
          "height": 153
        },
        "outputId": "94a85d49-edcd-48e3-f720-4110766dd88c"
      },
      "source": [
        "# Add the indicator variable to the canonical list.\n",
        "thousandone_movies['canonical'] = 1\n",
        "#print(thousandone_movies.head())\n",
        "\n",
        "# Add the canonical indicator to the movie file, drop the irrelevant columns \n",
        "#and fill the missing values with zeroes\n",
        "gl_movies = pd.merge(gl_movies, thousandone_movies, left_on='title', right_on='return_match', how='outer', \n",
        "         suffixes=('', '_canon')).drop(['year_canon', \n",
        "                                        'return_match', 'title_canon'], axis=1).fillna({'canonical':0})\n",
        "\n",
        "print(gl_movies.head())"
      ],
      "execution_count": 6,
      "outputs": [
        {
          "output_type": "stream",
          "text": [
            "   movieId                               title  ...  year  canonical\n",
            "0        1                    Toy Story (1995)  ...  1995        1.0\n",
            "1        2                      Jumanji (1995)  ...  1995        0.0\n",
            "2        3             Grumpier Old Men (1995)  ...  1995        0.0\n",
            "3        4            Waiting to Exhale (1995)  ...  1995        0.0\n",
            "4        5  Father of the Bride Part II (1995)  ...  1995        0.0\n",
            "\n",
            "[5 rows x 5 columns]\n"
          ],
          "name": "stdout"
        }
      ]
    },
    {
      "cell_type": "code",
      "metadata": {
        "id": "Dezz4x4wsxYo",
        "colab_type": "code",
        "colab": {}
      },
      "source": [
        "# Now add the mismatched ones\n",
        "\n",
        "handcode_ids = [7243, 6988, 25744, 8125, 25762, 5599, 25793, 25788, 25901, 80104,\n",
        "                         8751, 922, 25966, 6643, 69911, 8143, 668, 6981, 5649, 137579,\n",
        "                         137581, 137583, 137585, 137587, 26171, 7749, 97065, 26150, 32511,\n",
        "                         5060, 32853, 71973, 1194, 1198, 6151, 1289, 3868, 2159, 114394,\n",
        "                         1809, 1916, 4552, 4334, 5225, 107314, 71379, 72395, 183837, 127323]\n",
        "\n",
        "def handcode_row(row):\n",
        "    if row['movieId'] in handcode_ids or row['canonical'] == 1:\n",
        "      return 1\n",
        "    else:\n",
        "      return 0\n",
        "\n",
        "gl_movies['canonical'] = gl_movies.apply(lambda row : handcode_row(row), axis=1) \n",
        "\n"
      ],
      "execution_count": 7,
      "outputs": []
    },
    {
      "cell_type": "code",
      "metadata": {
        "id": "4wJonXP7K8aL",
        "colab_type": "code",
        "colab": {
          "base_uri": "https://localhost:8080/",
          "height": 204
        },
        "outputId": "f3ce6b50-4617-4d5f-ee3c-399660ebdcf0"
      },
      "source": [
        "gl_movies.head()"
      ],
      "execution_count": 8,
      "outputs": [
        {
          "output_type": "execute_result",
          "data": {
            "text/html": [
              "<div>\n",
              "<style scoped>\n",
              "    .dataframe tbody tr th:only-of-type {\n",
              "        vertical-align: middle;\n",
              "    }\n",
              "\n",
              "    .dataframe tbody tr th {\n",
              "        vertical-align: top;\n",
              "    }\n",
              "\n",
              "    .dataframe thead th {\n",
              "        text-align: right;\n",
              "    }\n",
              "</style>\n",
              "<table border=\"1\" class=\"dataframe\">\n",
              "  <thead>\n",
              "    <tr style=\"text-align: right;\">\n",
              "      <th></th>\n",
              "      <th>movieId</th>\n",
              "      <th>title</th>\n",
              "      <th>genres</th>\n",
              "      <th>year</th>\n",
              "      <th>canonical</th>\n",
              "    </tr>\n",
              "  </thead>\n",
              "  <tbody>\n",
              "    <tr>\n",
              "      <th>0</th>\n",
              "      <td>1</td>\n",
              "      <td>Toy Story (1995)</td>\n",
              "      <td>Adventure|Animation|Children|Comedy|Fantasy</td>\n",
              "      <td>1995</td>\n",
              "      <td>1</td>\n",
              "    </tr>\n",
              "    <tr>\n",
              "      <th>1</th>\n",
              "      <td>2</td>\n",
              "      <td>Jumanji (1995)</td>\n",
              "      <td>Adventure|Children|Fantasy</td>\n",
              "      <td>1995</td>\n",
              "      <td>0</td>\n",
              "    </tr>\n",
              "    <tr>\n",
              "      <th>2</th>\n",
              "      <td>3</td>\n",
              "      <td>Grumpier Old Men (1995)</td>\n",
              "      <td>Comedy|Romance</td>\n",
              "      <td>1995</td>\n",
              "      <td>0</td>\n",
              "    </tr>\n",
              "    <tr>\n",
              "      <th>3</th>\n",
              "      <td>4</td>\n",
              "      <td>Waiting to Exhale (1995)</td>\n",
              "      <td>Comedy|Drama|Romance</td>\n",
              "      <td>1995</td>\n",
              "      <td>0</td>\n",
              "    </tr>\n",
              "    <tr>\n",
              "      <th>4</th>\n",
              "      <td>5</td>\n",
              "      <td>Father of the Bride Part II (1995)</td>\n",
              "      <td>Comedy</td>\n",
              "      <td>1995</td>\n",
              "      <td>0</td>\n",
              "    </tr>\n",
              "  </tbody>\n",
              "</table>\n",
              "</div>"
            ],
            "text/plain": [
              "   movieId                               title  ...  year  canonical\n",
              "0        1                    Toy Story (1995)  ...  1995          1\n",
              "1        2                      Jumanji (1995)  ...  1995          0\n",
              "2        3             Grumpier Old Men (1995)  ...  1995          0\n",
              "3        4            Waiting to Exhale (1995)  ...  1995          0\n",
              "4        5  Father of the Bride Part II (1995)  ...  1995          0\n",
              "\n",
              "[5 rows x 5 columns]"
            ]
          },
          "metadata": {
            "tags": []
          },
          "execution_count": 8
        }
      ]
    },
    {
      "cell_type": "code",
      "metadata": {
        "id": "0Kk23qpKOCtx",
        "colab_type": "code",
        "colab": {
          "base_uri": "https://localhost:8080/",
          "height": 68
        },
        "outputId": "7eea348c-0af9-4143-d16b-548d3ae64de3"
      },
      "source": [
        "# Quickly check that there are 1,200 canonical movies\n",
        "gl_movies.canonical.value_counts()"
      ],
      "execution_count": 9,
      "outputs": [
        {
          "output_type": "execute_result",
          "data": {
            "text/plain": [
              "0    56829\n",
              "1     1270\n",
              "Name: canonical, dtype: int64"
            ]
          },
          "metadata": {
            "tags": []
          },
          "execution_count": 9
        }
      ]
    },
    {
      "cell_type": "markdown",
      "metadata": {
        "id": "WIo46YkV4KQj",
        "colab_type": "text"
      },
      "source": [
        "### Now join the canonical indicator to the ratings file \n",
        "(movie and ratings file have the same movieId)"
      ]
    },
    {
      "cell_type": "code",
      "metadata": {
        "id": "yyQeBNwJBPhD",
        "colab_type": "code",
        "colab": {
          "base_uri": "https://localhost:8080/",
          "height": 119
        },
        "outputId": "b76fb8d6-6684-445a-fe65-8ff25a5d0635"
      },
      "source": [
        "# Load the ratings file and convert the rating date\n",
        "import datetime\n",
        "ratings = pd.read_csv('ml-latest/ratings.csv', sep = ',', header = 0)\n",
        "ratings['rating_date'] = ratings['timestamp'].apply(lambda x: datetime.date.fromtimestamp(x))\n",
        "\n",
        "print(ratings.head())\n"
      ],
      "execution_count": 10,
      "outputs": [
        {
          "output_type": "stream",
          "text": [
            "   userId  movieId  rating   timestamp rating_date\n",
            "0       1      307     3.5  1256677221  2009-10-27\n",
            "1       1      481     3.5  1256677456  2009-10-27\n",
            "2       1     1091     1.5  1256677471  2009-10-27\n",
            "3       1     1257     4.5  1256677460  2009-10-27\n",
            "4       1     1449     4.5  1256677264  2009-10-27\n"
          ],
          "name": "stdout"
        }
      ]
    },
    {
      "cell_type": "code",
      "metadata": {
        "id": "gZOwK1PXuHzz",
        "colab_type": "code",
        "colab": {
          "base_uri": "https://localhost:8080/",
          "height": 204
        },
        "outputId": "2d93619e-62ee-46b6-e25b-e01e70e95dbd"
      },
      "source": [
        "# Here's the main merge\n",
        "rating2 = pd.merge(ratings, gl_movies.drop_duplicates(subset=['movieId']), how='left', on='movieId').drop(\n",
        "    ['title','genres','timestamp'], axis=1)  # we also dropped the long string columns and some others\n",
        "rating2.head()"
      ],
      "execution_count": 11,
      "outputs": [
        {
          "output_type": "execute_result",
          "data": {
            "text/html": [
              "<div>\n",
              "<style scoped>\n",
              "    .dataframe tbody tr th:only-of-type {\n",
              "        vertical-align: middle;\n",
              "    }\n",
              "\n",
              "    .dataframe tbody tr th {\n",
              "        vertical-align: top;\n",
              "    }\n",
              "\n",
              "    .dataframe thead th {\n",
              "        text-align: right;\n",
              "    }\n",
              "</style>\n",
              "<table border=\"1\" class=\"dataframe\">\n",
              "  <thead>\n",
              "    <tr style=\"text-align: right;\">\n",
              "      <th></th>\n",
              "      <th>userId</th>\n",
              "      <th>movieId</th>\n",
              "      <th>rating</th>\n",
              "      <th>rating_date</th>\n",
              "      <th>year</th>\n",
              "      <th>canonical</th>\n",
              "    </tr>\n",
              "  </thead>\n",
              "  <tbody>\n",
              "    <tr>\n",
              "      <th>0</th>\n",
              "      <td>1</td>\n",
              "      <td>307</td>\n",
              "      <td>3.5</td>\n",
              "      <td>2009-10-27</td>\n",
              "      <td>1993</td>\n",
              "      <td>1</td>\n",
              "    </tr>\n",
              "    <tr>\n",
              "      <th>1</th>\n",
              "      <td>1</td>\n",
              "      <td>481</td>\n",
              "      <td>3.5</td>\n",
              "      <td>2009-10-27</td>\n",
              "      <td>1993</td>\n",
              "      <td>0</td>\n",
              "    </tr>\n",
              "    <tr>\n",
              "      <th>2</th>\n",
              "      <td>1</td>\n",
              "      <td>1091</td>\n",
              "      <td>1.5</td>\n",
              "      <td>2009-10-27</td>\n",
              "      <td>1989</td>\n",
              "      <td>0</td>\n",
              "    </tr>\n",
              "    <tr>\n",
              "      <th>3</th>\n",
              "      <td>1</td>\n",
              "      <td>1257</td>\n",
              "      <td>4.5</td>\n",
              "      <td>2009-10-27</td>\n",
              "      <td>1985</td>\n",
              "      <td>0</td>\n",
              "    </tr>\n",
              "    <tr>\n",
              "      <th>4</th>\n",
              "      <td>1</td>\n",
              "      <td>1449</td>\n",
              "      <td>4.5</td>\n",
              "      <td>2009-10-27</td>\n",
              "      <td>1996</td>\n",
              "      <td>0</td>\n",
              "    </tr>\n",
              "  </tbody>\n",
              "</table>\n",
              "</div>"
            ],
            "text/plain": [
              "   userId  movieId  rating rating_date  year  canonical\n",
              "0       1      307     3.5  2009-10-27  1993          1\n",
              "1       1      481     3.5  2009-10-27  1993          0\n",
              "2       1     1091     1.5  2009-10-27  1989          0\n",
              "3       1     1257     4.5  2009-10-27  1985          0\n",
              "4       1     1449     4.5  2009-10-27  1996          0"
            ]
          },
          "metadata": {
            "tags": []
          },
          "execution_count": 11
        }
      ]
    },
    {
      "cell_type": "code",
      "metadata": {
        "id": "u8b9fzPC04a0",
        "colab_type": "code",
        "colab": {
          "base_uri": "https://localhost:8080/",
          "height": 450
        },
        "outputId": "3742e1e0-0453-41f7-a427-892ed35c1be1"
      },
      "source": [
        "\n",
        "# Removing the one suspicious user\n",
        "rating2 = rating2[rating2.userId != 123100]\n",
        "rating2.groupby('userId').agg({'rating': 'count'}).sort_values(by='rating', ascending=False)\n"
      ],
      "execution_count": 12,
      "outputs": [
        {
          "output_type": "execute_result",
          "data": {
            "text/html": [
              "<div>\n",
              "<style scoped>\n",
              "    .dataframe tbody tr th:only-of-type {\n",
              "        vertical-align: middle;\n",
              "    }\n",
              "\n",
              "    .dataframe tbody tr th {\n",
              "        vertical-align: top;\n",
              "    }\n",
              "\n",
              "    .dataframe thead th {\n",
              "        text-align: right;\n",
              "    }\n",
              "</style>\n",
              "<table border=\"1\" class=\"dataframe\">\n",
              "  <thead>\n",
              "    <tr style=\"text-align: right;\">\n",
              "      <th></th>\n",
              "      <th>rating</th>\n",
              "    </tr>\n",
              "    <tr>\n",
              "      <th>userId</th>\n",
              "      <th></th>\n",
              "    </tr>\n",
              "  </thead>\n",
              "  <tbody>\n",
              "    <tr>\n",
              "      <th>117490</th>\n",
              "      <td>9279</td>\n",
              "    </tr>\n",
              "    <tr>\n",
              "      <th>134596</th>\n",
              "      <td>8381</td>\n",
              "    </tr>\n",
              "    <tr>\n",
              "      <th>212343</th>\n",
              "      <td>7884</td>\n",
              "    </tr>\n",
              "    <tr>\n",
              "      <th>242683</th>\n",
              "      <td>7515</td>\n",
              "    </tr>\n",
              "    <tr>\n",
              "      <th>111908</th>\n",
              "      <td>6645</td>\n",
              "    </tr>\n",
              "    <tr>\n",
              "      <th>...</th>\n",
              "      <td>...</td>\n",
              "    </tr>\n",
              "    <tr>\n",
              "      <th>188125</th>\n",
              "      <td>1</td>\n",
              "    </tr>\n",
              "    <tr>\n",
              "      <th>117282</th>\n",
              "      <td>1</td>\n",
              "    </tr>\n",
              "    <tr>\n",
              "      <th>127062</th>\n",
              "      <td>1</td>\n",
              "    </tr>\n",
              "    <tr>\n",
              "      <th>241836</th>\n",
              "      <td>1</td>\n",
              "    </tr>\n",
              "    <tr>\n",
              "      <th>265726</th>\n",
              "      <td>1</td>\n",
              "    </tr>\n",
              "  </tbody>\n",
              "</table>\n",
              "<p>283227 rows × 1 columns</p>\n",
              "</div>"
            ],
            "text/plain": [
              "        rating\n",
              "userId        \n",
              "117490    9279\n",
              "134596    8381\n",
              "212343    7884\n",
              "242683    7515\n",
              "111908    6645\n",
              "...        ...\n",
              "188125       1\n",
              "117282       1\n",
              "127062       1\n",
              "241836       1\n",
              "265726       1\n",
              "\n",
              "[283227 rows x 1 columns]"
            ]
          },
          "metadata": {
            "tags": []
          },
          "execution_count": 12
        }
      ]
    },
    {
      "cell_type": "markdown",
      "metadata": {
        "id": "yKoUs0UmGnlC",
        "colab_type": "text"
      },
      "source": [
        "## Saving the initial ratings file to my Google Drive"
      ]
    },
    {
      "cell_type": "code",
      "metadata": {
        "id": "Mwa5oGTGPbQ1",
        "colab_type": "code",
        "colab": {
          "base_uri": "https://localhost:8080/",
          "height": 170
        },
        "outputId": "96050cc1-a0e4-4368-b4ec-78ea3aeaa898"
      },
      "source": [
        "rating2.to_csv('ratings.zip', compression={'archive_name':'rating2.csv','method':'zip'}, index=False)\n",
        "# File save\n",
        "! cp ratings.zip '/content/gdrive/My Drive/'\n",
        "! ls '/content/gdrive/My Drive/'\n"
      ],
      "execution_count": 13,
      "outputs": [
        {
          "output_type": "stream",
          "text": [
            "'Capstone #2: Final report.gdoc'\n",
            "'Copy of TEMPLATE_Track companies and contacts.gsheet'\n",
            " Data\n",
            " foo.txt\n",
            "'Getting started.pdf'\n",
            "\"Imbalanced classes in Naive Bayes' classifiers.gdoc\"\n",
            "'Notes on three informational interviews.gdoc'\n",
            " ratings.zip\n",
            "'Statistical techniques database.gsheet'\n"
          ],
          "name": "stdout"
        }
      ]
    },
    {
      "cell_type": "markdown",
      "metadata": {
        "id": "xWkLrgMd21p6",
        "colab_type": "text"
      },
      "source": [
        "### Reading the RATINGS file back"
      ]
    },
    {
      "cell_type": "code",
      "metadata": {
        "id": "qkNTYipuHcbG",
        "colab_type": "code",
        "colab": {
          "base_uri": "https://localhost:8080/",
          "height": 204
        },
        "outputId": "51612ef6-a446-4d5b-d56c-f5b284e89407"
      },
      "source": [
        "ratings_df = pd.read_csv('/content/gdrive/My Drive/ratings.zip')\n",
        "ratings_df.head()"
      ],
      "execution_count": 2,
      "outputs": [
        {
          "output_type": "execute_result",
          "data": {
            "text/html": [
              "<div>\n",
              "<style scoped>\n",
              "    .dataframe tbody tr th:only-of-type {\n",
              "        vertical-align: middle;\n",
              "    }\n",
              "\n",
              "    .dataframe tbody tr th {\n",
              "        vertical-align: top;\n",
              "    }\n",
              "\n",
              "    .dataframe thead th {\n",
              "        text-align: right;\n",
              "    }\n",
              "</style>\n",
              "<table border=\"1\" class=\"dataframe\">\n",
              "  <thead>\n",
              "    <tr style=\"text-align: right;\">\n",
              "      <th></th>\n",
              "      <th>userId</th>\n",
              "      <th>movieId</th>\n",
              "      <th>rating</th>\n",
              "      <th>rating_date</th>\n",
              "      <th>year</th>\n",
              "      <th>canonical</th>\n",
              "    </tr>\n",
              "  </thead>\n",
              "  <tbody>\n",
              "    <tr>\n",
              "      <th>0</th>\n",
              "      <td>1</td>\n",
              "      <td>307</td>\n",
              "      <td>3.5</td>\n",
              "      <td>2009-10-27</td>\n",
              "      <td>1993</td>\n",
              "      <td>1</td>\n",
              "    </tr>\n",
              "    <tr>\n",
              "      <th>1</th>\n",
              "      <td>1</td>\n",
              "      <td>481</td>\n",
              "      <td>3.5</td>\n",
              "      <td>2009-10-27</td>\n",
              "      <td>1993</td>\n",
              "      <td>0</td>\n",
              "    </tr>\n",
              "    <tr>\n",
              "      <th>2</th>\n",
              "      <td>1</td>\n",
              "      <td>1091</td>\n",
              "      <td>1.5</td>\n",
              "      <td>2009-10-27</td>\n",
              "      <td>1989</td>\n",
              "      <td>0</td>\n",
              "    </tr>\n",
              "    <tr>\n",
              "      <th>3</th>\n",
              "      <td>1</td>\n",
              "      <td>1257</td>\n",
              "      <td>4.5</td>\n",
              "      <td>2009-10-27</td>\n",
              "      <td>1985</td>\n",
              "      <td>0</td>\n",
              "    </tr>\n",
              "    <tr>\n",
              "      <th>4</th>\n",
              "      <td>1</td>\n",
              "      <td>1449</td>\n",
              "      <td>4.5</td>\n",
              "      <td>2009-10-27</td>\n",
              "      <td>1996</td>\n",
              "      <td>0</td>\n",
              "    </tr>\n",
              "  </tbody>\n",
              "</table>\n",
              "</div>"
            ],
            "text/plain": [
              "   userId  movieId  rating rating_date  year  canonical\n",
              "0       1      307     3.5  2009-10-27  1993          1\n",
              "1       1      481     3.5  2009-10-27  1993          0\n",
              "2       1     1091     1.5  2009-10-27  1989          0\n",
              "3       1     1257     4.5  2009-10-27  1985          0\n",
              "4       1     1449     4.5  2009-10-27  1996          0"
            ]
          },
          "metadata": {
            "tags": []
          },
          "execution_count": 2
        }
      ]
    },
    {
      "cell_type": "markdown",
      "metadata": {
        "id": "gAQDi2U2F8-H",
        "colab_type": "text"
      },
      "source": [
        "# First make a dataframe with all the snobbert indices"
      ]
    },
    {
      "cell_type": "markdown",
      "metadata": {
        "id": "vUEV3hUj4ng-",
        "colab_type": "text"
      },
      "source": [
        "### The following cells makes four snobbery indices in a new dataframe:\n",
        "1. Preference for old over new\n",
        "2. Being extreme in ratings (Statler-Waldorf)\n",
        "3. Liking obscure things\n",
        "4. Being contrary to popular opinion"
      ]
    },
    {
      "cell_type": "code",
      "metadata": {
        "id": "iMQI1TzVFdlD",
        "colab_type": "code",
        "colab": {
          "base_uri": "https://localhost:8080/",
          "height": 235
        },
        "outputId": "163ab11e-d64f-49e5-a4e9-330a15bdcb4a"
      },
      "source": [
        "# Old-over-new\n",
        "by_user = pd.DataFrame()\n",
        "by_user['newold_r'] = ratings_df[['rating','year','userId']].groupby('userId').corr().unstack().rating.year\n",
        "#by_user.head()\n",
        "by_user.head()"
      ],
      "execution_count": 3,
      "outputs": [
        {
          "output_type": "execute_result",
          "data": {
            "text/html": [
              "<div>\n",
              "<style scoped>\n",
              "    .dataframe tbody tr th:only-of-type {\n",
              "        vertical-align: middle;\n",
              "    }\n",
              "\n",
              "    .dataframe tbody tr th {\n",
              "        vertical-align: top;\n",
              "    }\n",
              "\n",
              "    .dataframe thead th {\n",
              "        text-align: right;\n",
              "    }\n",
              "</style>\n",
              "<table border=\"1\" class=\"dataframe\">\n",
              "  <thead>\n",
              "    <tr style=\"text-align: right;\">\n",
              "      <th></th>\n",
              "      <th>newold_r</th>\n",
              "    </tr>\n",
              "    <tr>\n",
              "      <th>userId</th>\n",
              "      <th></th>\n",
              "    </tr>\n",
              "  </thead>\n",
              "  <tbody>\n",
              "    <tr>\n",
              "      <th>1</th>\n",
              "      <td>-0.439490</td>\n",
              "    </tr>\n",
              "    <tr>\n",
              "      <th>2</th>\n",
              "      <td>0.153888</td>\n",
              "    </tr>\n",
              "    <tr>\n",
              "      <th>3</th>\n",
              "      <td>0.076270</td>\n",
              "    </tr>\n",
              "    <tr>\n",
              "      <th>4</th>\n",
              "      <td>0.016382</td>\n",
              "    </tr>\n",
              "    <tr>\n",
              "      <th>5</th>\n",
              "      <td>0.008811</td>\n",
              "    </tr>\n",
              "  </tbody>\n",
              "</table>\n",
              "</div>"
            ],
            "text/plain": [
              "        newold_r\n",
              "userId          \n",
              "1      -0.439490\n",
              "2       0.153888\n",
              "3       0.076270\n",
              "4       0.016382\n",
              "5       0.008811"
            ]
          },
          "metadata": {
            "tags": []
          },
          "execution_count": 3
        }
      ]
    },
    {
      "cell_type": "code",
      "metadata": {
        "id": "wHuk1YPSJgMP",
        "colab_type": "code",
        "colab": {}
      },
      "source": [
        "# Extremeness / statler-waldorf\n",
        "grumpy = ratings_df.groupby(['userId','rating']).agg({'rating':'count'}).unstack()\n",
        "grumpy.columns =['halfstar','onestar','one5star','twostar','two5star','threestar','three5star','fourstar','four5star'\n",
        "               ,'fivestar']\n",
        "grumpy['extremes'] = np.nansum([grumpy.halfstar, grumpy.onestar, grumpy.fivestar], axis=0) \n",
        "grumpy['all_sum'] = np.nansum([grumpy.halfstar, grumpy.onestar, grumpy.one5star, grumpy.twostar,grumpy.two5star,\n",
        "                               grumpy.threestar, grumpy.three5star, grumpy.fourstar, grumpy.four5star, grumpy.fivestar\n",
        "                              ], axis=0)\n",
        "by_user['statler_waldorf'] = grumpy.extremes / grumpy.all_sum\n"
      ],
      "execution_count": 4,
      "outputs": []
    },
    {
      "cell_type": "code",
      "metadata": {
        "id": "DhF6LplEGBSH",
        "colab_type": "code",
        "colab": {}
      },
      "source": [
        "# Obscurist\n",
        "num_ratings_by_movie = ratings_df[['rating','movieId']].groupby('movieId').count()\n",
        "num_ratings_by_movie.columns = ['times_rated']\n",
        "# Broadcast the number of ratings of each movie to each rating\n",
        "ratings_df = pd.merge(ratings_df, num_ratings_by_movie, how='left', on='movieId')\n",
        "# calculate the correlation by user and add that as new column\n",
        "by_user['obscurist']=ratings_df[['rating','times_rated','userId']].groupby('userId').corr().unstack().times_rated.rating\n",
        "\n"
      ],
      "execution_count": 5,
      "outputs": []
    },
    {
      "cell_type": "code",
      "metadata": {
        "id": "rgSKVyfUH2kO",
        "colab_type": "code",
        "colab": {}
      },
      "source": [
        "# Contrariness\n",
        "\n",
        "mean_ratings_by_movie = ratings_df[['rating','movieId']].groupby('movieId').mean()\n",
        "mean_ratings_by_movie.columns = ['movie_mean_rating']\n",
        "# Join the movie's mean rating to each individual rating\n",
        "ratings_df = pd.merge(ratings_df, mean_ratings_by_movie, how='left', on='movieId')\n",
        "# calculate how far each rating is from the average (just the mean deviation)\n",
        "ratings_df['rating_deviation'] = abs(ratings_df.rating - ratings_df.movie_mean_rating)\n",
        "#get an average of the deviance for each user as a new column\n",
        "by_user['contrariness']=ratings_df[['rating_deviation','userId']].groupby('userId').mean()\n"
      ],
      "execution_count": 6,
      "outputs": []
    },
    {
      "cell_type": "code",
      "metadata": {
        "id": "5-E51khHJtGZ",
        "colab_type": "code",
        "colab": {}
      },
      "source": [
        "# Now reset the index to get userIds\n",
        "by_user = by_user.reset_index()"
      ],
      "execution_count": 16,
      "outputs": []
    },
    {
      "cell_type": "code",
      "metadata": {
        "id": "rxj5jPKRJuqa",
        "colab_type": "code",
        "colab": {
          "base_uri": "https://localhost:8080/",
          "height": 204
        },
        "outputId": "70c3c9db-2d8f-4129-8a4a-249c84ad8642"
      },
      "source": [
        "by_user.head()"
      ],
      "execution_count": 17,
      "outputs": [
        {
          "output_type": "execute_result",
          "data": {
            "text/html": [
              "<div>\n",
              "<style scoped>\n",
              "    .dataframe tbody tr th:only-of-type {\n",
              "        vertical-align: middle;\n",
              "    }\n",
              "\n",
              "    .dataframe tbody tr th {\n",
              "        vertical-align: top;\n",
              "    }\n",
              "\n",
              "    .dataframe thead th {\n",
              "        text-align: right;\n",
              "    }\n",
              "</style>\n",
              "<table border=\"1\" class=\"dataframe\">\n",
              "  <thead>\n",
              "    <tr style=\"text-align: right;\">\n",
              "      <th></th>\n",
              "      <th>userId</th>\n",
              "      <th>newold_r</th>\n",
              "      <th>statler_waldorf</th>\n",
              "      <th>obscurist</th>\n",
              "      <th>contrariness</th>\n",
              "    </tr>\n",
              "  </thead>\n",
              "  <tbody>\n",
              "    <tr>\n",
              "      <th>0</th>\n",
              "      <td>1</td>\n",
              "      <td>-0.439490</td>\n",
              "      <td>0.000000</td>\n",
              "      <td>-0.019481</td>\n",
              "      <td>0.573882</td>\n",
              "    </tr>\n",
              "    <tr>\n",
              "      <th>1</th>\n",
              "      <td>2</td>\n",
              "      <td>0.153888</td>\n",
              "      <td>0.000000</td>\n",
              "      <td>-0.594173</td>\n",
              "      <td>0.453425</td>\n",
              "    </tr>\n",
              "    <tr>\n",
              "      <th>2</th>\n",
              "      <td>3</td>\n",
              "      <td>0.076270</td>\n",
              "      <td>0.090909</td>\n",
              "      <td>0.693170</td>\n",
              "      <td>0.424874</td>\n",
              "    </tr>\n",
              "    <tr>\n",
              "      <th>3</th>\n",
              "      <td>4</td>\n",
              "      <td>0.016382</td>\n",
              "      <td>0.184783</td>\n",
              "      <td>0.220126</td>\n",
              "      <td>0.817582</td>\n",
              "    </tr>\n",
              "    <tr>\n",
              "      <th>4</th>\n",
              "      <td>5</td>\n",
              "      <td>0.008811</td>\n",
              "      <td>0.236111</td>\n",
              "      <td>0.433186</td>\n",
              "      <td>0.480558</td>\n",
              "    </tr>\n",
              "  </tbody>\n",
              "</table>\n",
              "</div>"
            ],
            "text/plain": [
              "   userId  newold_r  statler_waldorf  obscurist  contrariness\n",
              "0       1 -0.439490         0.000000  -0.019481      0.573882\n",
              "1       2  0.153888         0.000000  -0.594173      0.453425\n",
              "2       3  0.076270         0.090909   0.693170      0.424874\n",
              "3       4  0.016382         0.184783   0.220126      0.817582\n",
              "4       5  0.008811         0.236111   0.433186      0.480558"
            ]
          },
          "metadata": {
            "tags": []
          },
          "execution_count": 17
        }
      ]
    },
    {
      "cell_type": "code",
      "metadata": {
        "id": "BW1DPz5VJ736",
        "colab_type": "code",
        "colab": {}
      },
      "source": [
        "### This cell does the outcomes of snobbery but I haven't revised it for this version.\n",
        "\n",
        "# Constructing the matrix requires a by-user approach. We already have the beginnings but need the means and SDs\n",
        "#of canonical and non-canonical movies for each user.\n",
        "\n",
        "# Group by two variables, create the means and SDs, and then unstack and rename.\n",
        "#double_stack = ms_df.groupby(['userId','canonical'])\n",
        "# from here\n",
        "#canonical_mean_sds = double_stack['rating'].agg({'mean' : np.mean, 'sd' : np.std, 'n': 'count'}).unstack()\n",
        "#canonical_mean_sds.columns = ['canonical_mean', 'noncanon_mean','canonical_sd','noncanon_sd','canon_n','noncanon_n']\n",
        "\n",
        "# Join the new canonical mean to the main file\n",
        "#by_user['canonical_mean'] = canonical_mean_sds['canonical_mean']\n",
        "\n",
        "# Make the t-stat.\n",
        "#canonical_mean_sds['canon_pref_meandiff']= canonical_mean_sds.canonical_mean - canonical_mean_sds.noncanon_mean\n",
        "#canonical_mean_sds['canon_pref_sd']= np.sqrt(( (canonical_mean_sds.canonical_sd ** 2 * canonical_mean_sds.canon_n) +\n",
        "#                                        (canonical_mean_sds.noncanon_sd ** 2 * \n",
        "#                                         canonical_mean_sds.noncanon_n))/(canonical_mean_sds.canon_n +\n",
        "#                                                                          canonical_mean_sds.noncanon_n))\n",
        "#canonical_mean_sds['canon_pref_stat'] = canonical_mean_sds['canon_pref_meandiff'] / canonical_mean_sds['canon_pref_sd']\n",
        "\n",
        "#by_user['canon_pref_stat'] = canonical_mean_sds['canon_pref_stat']\n",
        "#by_user['canon_pref_meandiff'] = canonical_mean_sds['canon_pref_meandiff']\n",
        "\n",
        "# Replace the infinite t-stat values with the following\n",
        "#by_user = by_user.replace(to_replace=[-np.inf, np.inf], value=np.nan)\n",
        "\n"
      ],
      "execution_count": null,
      "outputs": []
    },
    {
      "cell_type": "code",
      "metadata": {
        "id": "q6mqoq-GJiOA",
        "colab_type": "code",
        "colab": {
          "base_uri": "https://localhost:8080/",
          "height": 187
        },
        "outputId": "05563901-9a0a-4bc8-a649-8c8e351c2168"
      },
      "source": [
        "by_user.to_csv('user_indices.zip', compression={'archive_name':'by_user.csv','method':'zip'}, index=False)\n",
        "# File save\n",
        "! cp user_indices.zip '/content/gdrive/My Drive/'\n",
        "! ls '/content/gdrive/My Drive/'"
      ],
      "execution_count": 18,
      "outputs": [
        {
          "output_type": "stream",
          "text": [
            "'Capstone #2: Final report.gdoc'\n",
            "'Copy of TEMPLATE_Track companies and contacts.gsheet'\n",
            " Data\n",
            " foo.txt\n",
            "'Getting started.pdf'\n",
            "\"Imbalanced classes in Naive Bayes' classifiers.gdoc\"\n",
            "'Notes on three informational interviews.gdoc'\n",
            " ratings.zip\n",
            "'Statistical techniques database.gsheet'\n",
            " user_indices.zip\n"
          ],
          "name": "stdout"
        }
      ]
    },
    {
      "cell_type": "markdown",
      "metadata": {
        "id": "nh9XBL-pJuR4",
        "colab_type": "text"
      },
      "source": [
        "### Last bit is to join the user indices and ratings in one file and delete the bits not needed for the ML."
      ]
    },
    {
      "cell_type": "code",
      "metadata": {
        "id": "KcBIpOBjIkLz",
        "colab_type": "code",
        "colab": {
          "base_uri": "https://localhost:8080/",
          "height": 204
        },
        "outputId": "b3ea0cdc-d23a-44e2-e027-daa4d0510d41"
      },
      "source": [
        "## If you need to load the two files, here it is (don't forget to run imports at top first!)\n",
        "#ratings_df = pd.read_csv('/content/gdrive/My Drive/ratings.zip')\n",
        "#by_user = pd.read_csv('/content/gdrive/My Drive/user_indices.zip')"
      ],
      "execution_count": 19,
      "outputs": [
        {
          "output_type": "execute_result",
          "data": {
            "text/html": [
              "<div>\n",
              "<style scoped>\n",
              "    .dataframe tbody tr th:only-of-type {\n",
              "        vertical-align: middle;\n",
              "    }\n",
              "\n",
              "    .dataframe tbody tr th {\n",
              "        vertical-align: top;\n",
              "    }\n",
              "\n",
              "    .dataframe thead th {\n",
              "        text-align: right;\n",
              "    }\n",
              "</style>\n",
              "<table border=\"1\" class=\"dataframe\">\n",
              "  <thead>\n",
              "    <tr style=\"text-align: right;\">\n",
              "      <th></th>\n",
              "      <th>userId</th>\n",
              "      <th>newold_r</th>\n",
              "      <th>statler_waldorf</th>\n",
              "      <th>obscurist</th>\n",
              "      <th>contrariness</th>\n",
              "    </tr>\n",
              "  </thead>\n",
              "  <tbody>\n",
              "    <tr>\n",
              "      <th>0</th>\n",
              "      <td>1</td>\n",
              "      <td>-0.439490</td>\n",
              "      <td>0.000000</td>\n",
              "      <td>-0.019481</td>\n",
              "      <td>0.573882</td>\n",
              "    </tr>\n",
              "    <tr>\n",
              "      <th>1</th>\n",
              "      <td>2</td>\n",
              "      <td>0.153888</td>\n",
              "      <td>0.000000</td>\n",
              "      <td>-0.594173</td>\n",
              "      <td>0.453425</td>\n",
              "    </tr>\n",
              "    <tr>\n",
              "      <th>2</th>\n",
              "      <td>3</td>\n",
              "      <td>0.076270</td>\n",
              "      <td>0.090909</td>\n",
              "      <td>0.693170</td>\n",
              "      <td>0.424874</td>\n",
              "    </tr>\n",
              "    <tr>\n",
              "      <th>3</th>\n",
              "      <td>4</td>\n",
              "      <td>0.016382</td>\n",
              "      <td>0.184783</td>\n",
              "      <td>0.220126</td>\n",
              "      <td>0.817582</td>\n",
              "    </tr>\n",
              "    <tr>\n",
              "      <th>4</th>\n",
              "      <td>5</td>\n",
              "      <td>0.008811</td>\n",
              "      <td>0.236111</td>\n",
              "      <td>0.433186</td>\n",
              "      <td>0.480558</td>\n",
              "    </tr>\n",
              "  </tbody>\n",
              "</table>\n",
              "</div>"
            ],
            "text/plain": [
              "   userId  newold_r  statler_waldorf  obscurist  contrariness\n",
              "0       1 -0.439490         0.000000  -0.019481      0.573882\n",
              "1       2  0.153888         0.000000  -0.594173      0.453425\n",
              "2       3  0.076270         0.090909   0.693170      0.424874\n",
              "3       4  0.016382         0.184783   0.220126      0.817582\n",
              "4       5  0.008811         0.236111   0.433186      0.480558"
            ]
          },
          "metadata": {
            "tags": []
          },
          "execution_count": 19
        }
      ]
    },
    {
      "cell_type": "code",
      "metadata": {
        "id": "XphFEwQzIlJC",
        "colab_type": "code",
        "colab": {
          "base_uri": "https://localhost:8080/",
          "height": 224
        },
        "outputId": "c90c0be9-b90f-45d6-dbe1-16b4ad58fd23"
      },
      "source": [
        "## Making the final file for ML\n",
        "\n",
        "# Drop unneeded variables from the ratings file\n",
        "# If going from whole script, then run the line below\n",
        "#ratings_df = ratings_df.drop(['rating_date','year','times_rated','movie_mean_rating','rating_deviation'], axis=1)\n",
        "# If reloading the two saved files, then run the line below\n",
        "ratings_df = ratings_df.drop(['rating_date','year'], axis=1)\n",
        "\n",
        "# Join the two\n",
        "ml_df = ratings_df.merge(by_user, how='left', on='userId')\n",
        "ml_df.head()\n",
        "\n",
        "# File save\n",
        "ml_df.to_csv('moviesnob_ml_df.zip', compression={'archive_name':'ml_df.csv','method':'zip'}, index=False)\n",
        "! cp moviesnob_ml_df.zip '/content/gdrive/My Drive/'\n",
        "! ls '/content/gdrive/My Drive/'\n"
      ],
      "execution_count": 25,
      "outputs": [
        {
          "output_type": "execute_result",
          "data": {
            "text/html": [
              "<div>\n",
              "<style scoped>\n",
              "    .dataframe tbody tr th:only-of-type {\n",
              "        vertical-align: middle;\n",
              "    }\n",
              "\n",
              "    .dataframe tbody tr th {\n",
              "        vertical-align: top;\n",
              "    }\n",
              "\n",
              "    .dataframe thead th {\n",
              "        text-align: right;\n",
              "    }\n",
              "</style>\n",
              "<table border=\"1\" class=\"dataframe\">\n",
              "  <thead>\n",
              "    <tr style=\"text-align: right;\">\n",
              "      <th></th>\n",
              "      <th>userId</th>\n",
              "      <th>movieId</th>\n",
              "      <th>rating</th>\n",
              "      <th>canonical</th>\n",
              "      <th>times_rated</th>\n",
              "      <th>movie_mean_rating</th>\n",
              "      <th>rating_deviation</th>\n",
              "      <th>newold_r</th>\n",
              "      <th>statler_waldorf</th>\n",
              "      <th>obscurist</th>\n",
              "      <th>contrariness</th>\n",
              "    </tr>\n",
              "  </thead>\n",
              "  <tbody>\n",
              "    <tr>\n",
              "      <th>0</th>\n",
              "      <td>1</td>\n",
              "      <td>307</td>\n",
              "      <td>3.5</td>\n",
              "      <td>1</td>\n",
              "      <td>7957</td>\n",
              "      <td>3.971597</td>\n",
              "      <td>0.471597</td>\n",
              "      <td>-0.43949</td>\n",
              "      <td>0.0</td>\n",
              "      <td>-0.019481</td>\n",
              "      <td>0.573882</td>\n",
              "    </tr>\n",
              "    <tr>\n",
              "      <th>1</th>\n",
              "      <td>1</td>\n",
              "      <td>481</td>\n",
              "      <td>3.5</td>\n",
              "      <td>0</td>\n",
              "      <td>6036</td>\n",
              "      <td>3.339298</td>\n",
              "      <td>0.160702</td>\n",
              "      <td>-0.43949</td>\n",
              "      <td>0.0</td>\n",
              "      <td>-0.019481</td>\n",
              "      <td>0.573882</td>\n",
              "    </tr>\n",
              "    <tr>\n",
              "      <th>2</th>\n",
              "      <td>1</td>\n",
              "      <td>1091</td>\n",
              "      <td>1.5</td>\n",
              "      <td>0</td>\n",
              "      <td>6138</td>\n",
              "      <td>2.806207</td>\n",
              "      <td>1.306207</td>\n",
              "      <td>-0.43949</td>\n",
              "      <td>0.0</td>\n",
              "      <td>-0.019481</td>\n",
              "      <td>0.573882</td>\n",
              "    </tr>\n",
              "    <tr>\n",
              "      <th>3</th>\n",
              "      <td>1</td>\n",
              "      <td>1257</td>\n",
              "      <td>4.5</td>\n",
              "      <td>0</td>\n",
              "      <td>5901</td>\n",
              "      <td>3.828588</td>\n",
              "      <td>0.671412</td>\n",
              "      <td>-0.43949</td>\n",
              "      <td>0.0</td>\n",
              "      <td>-0.019481</td>\n",
              "      <td>0.573882</td>\n",
              "    </tr>\n",
              "    <tr>\n",
              "      <th>4</th>\n",
              "      <td>1</td>\n",
              "      <td>1449</td>\n",
              "      <td>4.5</td>\n",
              "      <td>0</td>\n",
              "      <td>6866</td>\n",
              "      <td>3.918439</td>\n",
              "      <td>0.581561</td>\n",
              "      <td>-0.43949</td>\n",
              "      <td>0.0</td>\n",
              "      <td>-0.019481</td>\n",
              "      <td>0.573882</td>\n",
              "    </tr>\n",
              "  </tbody>\n",
              "</table>\n",
              "</div>"
            ],
            "text/plain": [
              "   userId  movieId  rating  ...  statler_waldorf  obscurist  contrariness\n",
              "0       1      307     3.5  ...              0.0  -0.019481      0.573882\n",
              "1       1      481     3.5  ...              0.0  -0.019481      0.573882\n",
              "2       1     1091     1.5  ...              0.0  -0.019481      0.573882\n",
              "3       1     1257     4.5  ...              0.0  -0.019481      0.573882\n",
              "4       1     1449     4.5  ...              0.0  -0.019481      0.573882\n",
              "\n",
              "[5 rows x 11 columns]"
            ]
          },
          "metadata": {
            "tags": []
          },
          "execution_count": 25
        }
      ]
    },
    {
      "cell_type": "code",
      "metadata": {
        "id": "_Tr43mF3MAWI",
        "colab_type": "code",
        "colab": {}
      },
      "source": [
        "ml_df.to_csv('moviesnob_ml_df.zip', compression={'archive_name':'ml_df.csv','method':'zip'}, index=False)\n",
        "! cp moviesnob_ml_df.zip '/content/gdrive/My Drive/'\n",
        "! ls '/content/gdrive/My Drive/'"
      ],
      "execution_count": null,
      "outputs": []
    },
    {
      "cell_type": "code",
      "metadata": {
        "id": "RaY3QpPZM0mk",
        "colab_type": "code",
        "colab": {}
      },
      "source": [
        ""
      ],
      "execution_count": null,
      "outputs": []
    }
  ]
}