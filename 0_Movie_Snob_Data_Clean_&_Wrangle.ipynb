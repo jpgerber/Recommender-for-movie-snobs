{
  "nbformat": 4,
  "nbformat_minor": 0,
  "metadata": {
    "colab": {
      "name": "0 Movie Snob - Data Clean & Wrangle.ipynb",
      "provenance": [],
      "collapsed_sections": [],
      "toc_visible": true,
      "authorship_tag": "ABX9TyO6TIIO43t/vn/xwTkREX8n",
      "include_colab_link": true
    },
    "kernelspec": {
      "name": "python3",
      "display_name": "Python 3"
    }
  },
  "cells": [
    {
      "cell_type": "markdown",
      "metadata": {
        "id": "view-in-github",
        "colab_type": "text"
      },
      "source": [
        "<a href=\"https://colab.research.google.com/github/jpgerber/Recommender-for-movie-snobs/blob/master/0_Movie_Snob_Data_Clean_%26_Wrangle.ipynb\" target=\"_parent\"><img src=\"https://colab.research.google.com/assets/colab-badge.svg\" alt=\"Open In Colab\"/></a>"
      ]
    },
    {
      "cell_type": "markdown",
      "metadata": {
        "id": "De4K4_JTy55Y",
        "colab_type": "text"
      },
      "source": [
        "# This notebook preps the datafiles for the ML.\n",
        "It first makes a file that adds canonical status to the ratings file.\n",
        "<p>Then, we make the indicators of snobbery.\n",
        "<p>Both of these are saved to my Google Drive.\n"
      ]
    },
    {
      "cell_type": "code",
      "metadata": {
        "id": "VHeXVgjNB6Jt",
        "colab_type": "code",
        "colab": {
          "base_uri": "https://localhost:8080/",
          "height": 34
        },
        "outputId": "b7e83c4e-10a6-466f-b355-e5295a29b479"
      },
      "source": [
        "import pandas as pd\n",
        "import numpy as np\n",
        "import requests\n",
        "from bs4 import BeautifulSoup\n",
        "import zipfile, io\n",
        "\n",
        "from google.colab import drive\n",
        "drive.mount('/content/gdrive', force_remount=True)"
      ],
      "execution_count": 1,
      "outputs": [
        {
          "output_type": "stream",
          "text": [
            "Mounted at /content/gdrive\n"
          ],
          "name": "stdout"
        }
      ]
    },
    {
      "cell_type": "markdown",
      "metadata": {
        "id": "5C4iecoB3f6k",
        "colab_type": "text"
      },
      "source": [
        "#### First stage is to add the canonical indicator to the movie titles file"
      ]
    },
    {
      "cell_type": "code",
      "metadata": {
        "id": "LhyEvRJBIM5x",
        "colab_type": "code",
        "colab": {}
      },
      "source": [
        "# Make the canonical list\n",
        "# Importing the 1,001 list and converting it to a list\n",
        "snob_url = 'https://1001films.fandom.com/wiki/The_List'\n",
        "snob_text= requests.get(snob_url)\n",
        "soup = BeautifulSoup(snob_text.content, 'html.parser')\n",
        "basic_list = (soup.body.find_all('b'))\n",
        "thousand_list = [item.text for item in basic_list]\n",
        "thousandone_movies = pd.DataFrame(thousand_list, columns = ['title']).drop(0) # Convert to df\n"
      ],
      "execution_count": 2,
      "outputs": []
    },
    {
      "cell_type": "code",
      "metadata": {
        "id": "Vm15s-2LxVr0",
        "colab_type": "code",
        "colab": {}
      },
      "source": [
        "# Get the MovieLens dataset\n",
        "# Importing the ratings data\n",
        "list_of_urls = ['http://files.grouplens.org/datasets/movielens/ml-latest.zip'] # I originally checked several files\n",
        "for url in list_of_urls:\n",
        "    ratings_small_file = requests.get(url)\n",
        "    z = zipfile.ZipFile(io.BytesIO(ratings_small_file.content))\n",
        "    z.extractall()\n",
        "\n",
        "gl_movies = pd.read_csv('ml-latest/movies.csv', sep = ',', header = 0) # Make the df\n"
      ],
      "execution_count": 3,
      "outputs": []
    },
    {
      "cell_type": "markdown",
      "metadata": {
        "id": "tRcLEUWLzSs_",
        "colab_type": "text"
      },
      "source": [
        "##### There will be some different types of cleaning.\n",
        "First, extract the year of release from the string titles to enable easier title matching"
      ]
    },
    {
      "cell_type": "code",
      "metadata": {
        "id": "BxaoRko0x2yP",
        "colab_type": "code",
        "colab": {}
      },
      "source": [
        "# Create columns of movie years in each database\n",
        "# Make sure the titles don't have trailing spaces\n",
        "thousandone_movies['title'] = thousandone_movies['title'].str.rstrip()\n",
        "gl_movies['title'] = gl_movies['title'].str.rstrip()\n",
        "# Then take the slices (the years are in parantheses at the end of the title)\n",
        "thousandone_movies['year'] = [title[slice(-5,-1)] for title in thousandone_movies['title']]\n",
        "gl_movies['year'] = [title[slice(-5,-1)] for title in gl_movies['title']]\n",
        "\n",
        "# Then convert these strings to numbers (there is one title missing a year!)\n",
        "# Define a conversion function\n",
        "def ConvertYear(value):\n",
        "    '''This function converts integer strings to integers and non-integer strings to zero'''\n",
        "    try:\n",
        "        return int(value)\n",
        "    except: \n",
        "        return 0\n",
        "# Then apply it to the columns for both thousandone_movies and ed_choices\n",
        "thousandone_movies['year'] = thousandone_movies['year'].apply(lambda year: ConvertYear(\n",
        "    year))\n",
        "gl_movies['year'] = gl_movies['year'].apply(lambda year: ConvertYear(year))\n"
      ],
      "execution_count": 4,
      "outputs": []
    },
    {
      "cell_type": "markdown",
      "metadata": {
        "id": "rgo3UUMUy8lX",
        "colab_type": "text"
      },
      "source": [
        "Then make a custom function to select a three-year window to more efficiently do string matching.\n",
        "Then run that matching"
      ]
    },
    {
      "cell_type": "code",
      "metadata": {
        "id": "QbKbafa3x536",
        "colab_type": "code",
        "colab": {
          "base_uri": "https://localhost:8080/",
          "height": 139
        },
        "outputId": "4ae118ec-ebb4-4b65-db51-ca02d03d1ebb"
      },
      "source": [
        "!pip install fuzzywuzzy \n",
        "from fuzzywuzzy import fuzz\n",
        "from fuzzywuzzy import process\n",
        "# Specify the matching function (we only need one of the outputs)\n",
        "def Matcher(title, choices):\n",
        "    title_match, percent_match, match3 = process.extractOne(title, choices)\n",
        "    return title_match\n",
        "# And here's a function for using the tokenizer\n",
        "def Matcher_token(title, choices):\n",
        "    title_match, percent_match, match3 = process.extractOne(title, choices, \n",
        "                                                            scorer=fuzz.token_sort_ratio)\n",
        "    return title_match\n",
        "\n",
        "#Define a filter to return targets for +/-1 year only\n",
        "def YearFilter (year):\n",
        "    years = [year-1, year, year+1]\n",
        "    return gl_movies[gl_movies.year.isin(years)].title\n",
        "\n",
        "# Running the tokenizer over the filtered target set\n",
        "for index, row in thousandone_movies.iterrows():\n",
        "    # call the filter\n",
        "    targets = YearFilter(row.year)\n",
        "    # update the new cell work out the matcher\n",
        "    thousandone_movies.loc[index,'return_match'] = Matcher_token(row.title, targets)\n"
      ],
      "execution_count": 5,
      "outputs": [
        {
          "output_type": "stream",
          "text": [
            "Collecting fuzzywuzzy\n",
            "  Downloading https://files.pythonhosted.org/packages/43/ff/74f23998ad2f93b945c0309f825be92e04e0348e062026998b5eefef4c33/fuzzywuzzy-0.18.0-py2.py3-none-any.whl\n",
            "Installing collected packages: fuzzywuzzy\n",
            "Successfully installed fuzzywuzzy-0.18.0\n"
          ],
          "name": "stdout"
        },
        {
          "output_type": "stream",
          "text": [
            "/usr/local/lib/python3.6/dist-packages/fuzzywuzzy/fuzz.py:11: UserWarning: Using slow pure-python SequenceMatcher. Install python-Levenshtein to remove this warning\n",
            "  warnings.warn('Using slow pure-python SequenceMatcher. Install python-Levenshtein to remove this warning')\n"
          ],
          "name": "stderr"
        }
      ]
    },
    {
      "cell_type": "markdown",
      "metadata": {
        "id": "iFS7OuiiB7yL",
        "colab_type": "text"
      },
      "source": [
        "\n",
        "The following movies were misidentified and so needed re-coding\n",
        "Intolerance (1916) - 7243\n",
        "Broken Blossoms (1919) - 6988\n",
        "Häxan (1923) - 25744\n",
        "Sunrise (1927) - 8125\n",
        "The Unknown (1927) - 25762\n",
        "A Throw of Dice (Prapancha Pash) (1929) - NONE\n",
        "Tabu (1931) - 5599\n",
        "The Vampire (Vampyr) (1932) - 25793\n",
        "Scarface: The Shame of a Nation (1932) - 25788\n",
        "Midnight Song (Ye Ban Ge Sheng) (1937) - None\n",
        "Henry V (1944) - 25901\n",
        "The Battle of San Pietro (1945) - 80104\n",
        "Gun Crazy (1949) - 8751\n",
        "Sunset Blvd. (1950) - 922\n",
        "Europa '51 (1952) - 25966\n",
        "Tokyo Story (1953) - 6643\n",
        "The Wanton Countess (Senso) (1954) - 69911\n",
        "The Sins of Lola Montes (Lola Montès) (1955) - 8143\n",
        "Pather Panchali (1955) - 668\n",
        "Ordet (1955) - 6981\n",
        "Hill 24 Doesn't Answer (1955) - NONE\n",
        "Dracula (1958) - 5649\n",
        "Dog Star Man - 137579\t137581\t137583\t137585\t137587\n",
        "Blonde Cobra (1963) - None\n",
        "Playtime (1967) - 26171\n",
        "Week End (1967) - 7749\n",
        "Viy (1967) - 97065\n",
        "Andrei Rublev (Andrei Rublyov) (1966) - 26150\n",
        "A Touch of Zen (Hsia Nu) (1969) - 32511\n",
        "M*A*S*H (1970) - 5060\n",
        "The Sorrow and the Pity (La Chagrin et la Pitié) (1971) - 32853\n",
        "Ceddo (1977) - 71973\n",
        "Up in Smoke (1978) - 1194\n",
        "Raiders of the Lost Ark (1981) - 1198\n",
        "Yol (1982) - 6151\n",
        "Koyaanisqatsi (1983) - 1289\n",
        "The Naked Gun (1988) - 3868\n",
        "Henry: Portrait of a Serial Killer (1990) - 2159\n",
        "The Actress (Yuen Ling-Yuk) (1992) - 114394\n",
        "Hana-Bi (1997) - 1809\n",
        "Buffalo '66 (1998) - 1916\n",
        "Tetsuo (1989) - 4552\n",
        "A One and a Two (Yi Yi) (2000) - 4334\n",
        "Y Tu Mama Tambien (2001) - 5225\n",
        "Oldboy (2003) - 107314\n",
        "Paranormal Activity (2007) - 71379\n",
        "Precious: Based on the Novel \"Push\" by Sapphire (2009) - 72395\n",
        "The Favourite (2018) - 183837\n",
        "Vice (2018) - 127323"
      ]
    },
    {
      "cell_type": "markdown",
      "metadata": {
        "id": "1dmNIWGz0lMP",
        "colab_type": "text"
      },
      "source": [
        "Join the canonical indicators list to the titles file."
      ]
    },
    {
      "cell_type": "code",
      "metadata": {
        "id": "BW9z6wOgqrd7",
        "colab_type": "code",
        "colab": {
          "base_uri": "https://localhost:8080/",
          "height": 153
        },
        "outputId": "3cff2433-4fab-4f20-dd2d-6cd28fb7f238"
      },
      "source": [
        "# Add the indicator variable to the canonical list.\n",
        "thousandone_movies['canonical'] = 1\n",
        "#print(thousandone_movies.head())\n",
        "\n",
        "# Add the canonical indicator to the movie file, drop the irrelevant columns \n",
        "#and fill the missing values with zeroes\n",
        "gl_movies = pd.merge(gl_movies, thousandone_movies, left_on='title', right_on='return_match', how='outer', \n",
        "         suffixes=('', '_canon')).drop(['year_canon', \n",
        "                                        'return_match', 'title_canon'], axis=1).fillna({'canonical':0})\n",
        "\n",
        "print(gl_movies.head())"
      ],
      "execution_count": 6,
      "outputs": [
        {
          "output_type": "stream",
          "text": [
            "   movieId                               title  ...  year  canonical\n",
            "0        1                    Toy Story (1995)  ...  1995        1.0\n",
            "1        2                      Jumanji (1995)  ...  1995        0.0\n",
            "2        3             Grumpier Old Men (1995)  ...  1995        0.0\n",
            "3        4            Waiting to Exhale (1995)  ...  1995        0.0\n",
            "4        5  Father of the Bride Part II (1995)  ...  1995        0.0\n",
            "\n",
            "[5 rows x 5 columns]\n"
          ],
          "name": "stdout"
        }
      ]
    },
    {
      "cell_type": "code",
      "metadata": {
        "id": "Dezz4x4wsxYo",
        "colab_type": "code",
        "colab": {}
      },
      "source": [
        "# Now add the mismatched ones\n",
        "\n",
        "handcode_ids = [7243, 6988, 25744, 8125, 25762, 5599, 25793, 25788, 25901, 80104,\n",
        "                         8751, 922, 25966, 6643, 69911, 8143, 668, 6981, 5649, 137579,\n",
        "                         137581, 137583, 137585, 137587, 26171, 7749, 97065, 26150, 32511,\n",
        "                         5060, 32853, 71973, 1194, 1198, 6151, 1289, 3868, 2159, 114394,\n",
        "                         1809, 1916, 4552, 4334, 5225, 107314, 71379, 72395, 183837, 127323]\n",
        "\n",
        "def handcode_row(row):\n",
        "    if row['movieId'] in handcode_ids or row['canonical'] == 1:\n",
        "      return 1\n",
        "    else:\n",
        "      return 0\n",
        "\n",
        "gl_movies['canonical'] = gl_movies.apply(lambda row : handcode_row(row), axis=1) \n",
        "\n"
      ],
      "execution_count": 7,
      "outputs": []
    },
    {
      "cell_type": "code",
      "metadata": {
        "id": "4wJonXP7K8aL",
        "colab_type": "code",
        "colab": {
          "base_uri": "https://localhost:8080/",
          "height": 204
        },
        "outputId": "408481b5-8583-432a-c4b9-0709df57a2ad"
      },
      "source": [
        "gl_movies.head()"
      ],
      "execution_count": 8,
      "outputs": [
        {
          "output_type": "execute_result",
          "data": {
            "text/html": [
              "<div>\n",
              "<style scoped>\n",
              "    .dataframe tbody tr th:only-of-type {\n",
              "        vertical-align: middle;\n",
              "    }\n",
              "\n",
              "    .dataframe tbody tr th {\n",
              "        vertical-align: top;\n",
              "    }\n",
              "\n",
              "    .dataframe thead th {\n",
              "        text-align: right;\n",
              "    }\n",
              "</style>\n",
              "<table border=\"1\" class=\"dataframe\">\n",
              "  <thead>\n",
              "    <tr style=\"text-align: right;\">\n",
              "      <th></th>\n",
              "      <th>movieId</th>\n",
              "      <th>title</th>\n",
              "      <th>genres</th>\n",
              "      <th>year</th>\n",
              "      <th>canonical</th>\n",
              "    </tr>\n",
              "  </thead>\n",
              "  <tbody>\n",
              "    <tr>\n",
              "      <th>0</th>\n",
              "      <td>1</td>\n",
              "      <td>Toy Story (1995)</td>\n",
              "      <td>Adventure|Animation|Children|Comedy|Fantasy</td>\n",
              "      <td>1995</td>\n",
              "      <td>1</td>\n",
              "    </tr>\n",
              "    <tr>\n",
              "      <th>1</th>\n",
              "      <td>2</td>\n",
              "      <td>Jumanji (1995)</td>\n",
              "      <td>Adventure|Children|Fantasy</td>\n",
              "      <td>1995</td>\n",
              "      <td>0</td>\n",
              "    </tr>\n",
              "    <tr>\n",
              "      <th>2</th>\n",
              "      <td>3</td>\n",
              "      <td>Grumpier Old Men (1995)</td>\n",
              "      <td>Comedy|Romance</td>\n",
              "      <td>1995</td>\n",
              "      <td>0</td>\n",
              "    </tr>\n",
              "    <tr>\n",
              "      <th>3</th>\n",
              "      <td>4</td>\n",
              "      <td>Waiting to Exhale (1995)</td>\n",
              "      <td>Comedy|Drama|Romance</td>\n",
              "      <td>1995</td>\n",
              "      <td>0</td>\n",
              "    </tr>\n",
              "    <tr>\n",
              "      <th>4</th>\n",
              "      <td>5</td>\n",
              "      <td>Father of the Bride Part II (1995)</td>\n",
              "      <td>Comedy</td>\n",
              "      <td>1995</td>\n",
              "      <td>0</td>\n",
              "    </tr>\n",
              "  </tbody>\n",
              "</table>\n",
              "</div>"
            ],
            "text/plain": [
              "   movieId                               title  ...  year  canonical\n",
              "0        1                    Toy Story (1995)  ...  1995          1\n",
              "1        2                      Jumanji (1995)  ...  1995          0\n",
              "2        3             Grumpier Old Men (1995)  ...  1995          0\n",
              "3        4            Waiting to Exhale (1995)  ...  1995          0\n",
              "4        5  Father of the Bride Part II (1995)  ...  1995          0\n",
              "\n",
              "[5 rows x 5 columns]"
            ]
          },
          "metadata": {
            "tags": []
          },
          "execution_count": 8
        }
      ]
    },
    {
      "cell_type": "code",
      "metadata": {
        "id": "0Kk23qpKOCtx",
        "colab_type": "code",
        "colab": {
          "base_uri": "https://localhost:8080/",
          "height": 68
        },
        "outputId": "cf3e9f4c-6d98-42c9-d2ce-6020ad2df864"
      },
      "source": [
        "# Quickly check that there are 1,200 canonical movies\n",
        "gl_movies.canonical.value_counts()"
      ],
      "execution_count": 9,
      "outputs": [
        {
          "output_type": "execute_result",
          "data": {
            "text/plain": [
              "0    56829\n",
              "1     1270\n",
              "Name: canonical, dtype: int64"
            ]
          },
          "metadata": {
            "tags": []
          },
          "execution_count": 9
        }
      ]
    },
    {
      "cell_type": "markdown",
      "metadata": {
        "id": "WIo46YkV4KQj",
        "colab_type": "text"
      },
      "source": [
        "### Now join the canonical indicator to the ratings file \n",
        "(movie and ratings file have the same movieId)"
      ]
    },
    {
      "cell_type": "code",
      "metadata": {
        "id": "yyQeBNwJBPhD",
        "colab_type": "code",
        "colab": {
          "base_uri": "https://localhost:8080/",
          "height": 119
        },
        "outputId": "38663161-aeb4-4558-fbd5-ad45a0e6a638"
      },
      "source": [
        "# Load the ratings file and convert the rating date\n",
        "import datetime\n",
        "ratings = pd.read_csv('ml-latest/ratings.csv', sep = ',', header = 0)\n",
        "ratings['rating_date'] = ratings['timestamp'].apply(lambda x: datetime.date.fromtimestamp(x))\n",
        "\n",
        "print(ratings.head())\n"
      ],
      "execution_count": 10,
      "outputs": [
        {
          "output_type": "stream",
          "text": [
            "   userId  movieId  rating   timestamp rating_date\n",
            "0       1      307     3.5  1256677221  2009-10-27\n",
            "1       1      481     3.5  1256677456  2009-10-27\n",
            "2       1     1091     1.5  1256677471  2009-10-27\n",
            "3       1     1257     4.5  1256677460  2009-10-27\n",
            "4       1     1449     4.5  1256677264  2009-10-27\n"
          ],
          "name": "stdout"
        }
      ]
    },
    {
      "cell_type": "code",
      "metadata": {
        "id": "gZOwK1PXuHzz",
        "colab_type": "code",
        "colab": {
          "base_uri": "https://localhost:8080/",
          "height": 204
        },
        "outputId": "32e8af3c-5858-49a8-e85c-de508fb19a47"
      },
      "source": [
        "# Here's the main merge\n",
        "rating2 = pd.merge(ratings, gl_movies.drop_duplicates(subset=['movieId']), how='left', on='movieId').drop(\n",
        "    ['title','genres','timestamp'], axis=1)  # we also dropped the long string columns and some others\n",
        "rating2.head()"
      ],
      "execution_count": 11,
      "outputs": [
        {
          "output_type": "execute_result",
          "data": {
            "text/html": [
              "<div>\n",
              "<style scoped>\n",
              "    .dataframe tbody tr th:only-of-type {\n",
              "        vertical-align: middle;\n",
              "    }\n",
              "\n",
              "    .dataframe tbody tr th {\n",
              "        vertical-align: top;\n",
              "    }\n",
              "\n",
              "    .dataframe thead th {\n",
              "        text-align: right;\n",
              "    }\n",
              "</style>\n",
              "<table border=\"1\" class=\"dataframe\">\n",
              "  <thead>\n",
              "    <tr style=\"text-align: right;\">\n",
              "      <th></th>\n",
              "      <th>userId</th>\n",
              "      <th>movieId</th>\n",
              "      <th>rating</th>\n",
              "      <th>rating_date</th>\n",
              "      <th>canonical</th>\n",
              "    </tr>\n",
              "  </thead>\n",
              "  <tbody>\n",
              "    <tr>\n",
              "      <th>0</th>\n",
              "      <td>1</td>\n",
              "      <td>307</td>\n",
              "      <td>3.5</td>\n",
              "      <td>2009-10-27</td>\n",
              "      <td>1</td>\n",
              "    </tr>\n",
              "    <tr>\n",
              "      <th>1</th>\n",
              "      <td>1</td>\n",
              "      <td>481</td>\n",
              "      <td>3.5</td>\n",
              "      <td>2009-10-27</td>\n",
              "      <td>0</td>\n",
              "    </tr>\n",
              "    <tr>\n",
              "      <th>2</th>\n",
              "      <td>1</td>\n",
              "      <td>1091</td>\n",
              "      <td>1.5</td>\n",
              "      <td>2009-10-27</td>\n",
              "      <td>0</td>\n",
              "    </tr>\n",
              "    <tr>\n",
              "      <th>3</th>\n",
              "      <td>1</td>\n",
              "      <td>1257</td>\n",
              "      <td>4.5</td>\n",
              "      <td>2009-10-27</td>\n",
              "      <td>0</td>\n",
              "    </tr>\n",
              "    <tr>\n",
              "      <th>4</th>\n",
              "      <td>1</td>\n",
              "      <td>1449</td>\n",
              "      <td>4.5</td>\n",
              "      <td>2009-10-27</td>\n",
              "      <td>0</td>\n",
              "    </tr>\n",
              "  </tbody>\n",
              "</table>\n",
              "</div>"
            ],
            "text/plain": [
              "   userId  movieId  rating rating_date  canonical\n",
              "0       1      307     3.5  2009-10-27          1\n",
              "1       1      481     3.5  2009-10-27          0\n",
              "2       1     1091     1.5  2009-10-27          0\n",
              "3       1     1257     4.5  2009-10-27          0\n",
              "4       1     1449     4.5  2009-10-27          0"
            ]
          },
          "metadata": {
            "tags": []
          },
          "execution_count": 11
        }
      ]
    },
    {
      "cell_type": "code",
      "metadata": {
        "id": "u8b9fzPC04a0",
        "colab_type": "code",
        "colab": {
          "base_uri": "https://localhost:8080/",
          "height": 450
        },
        "outputId": "4e1b3cfd-37e0-47ff-fe17-889da924c63a"
      },
      "source": [
        "\n",
        "# Removing the one suspicious user\n",
        "rating2 = rating2[rating2.userId != 123100]\n",
        "rating2.groupby('userId').agg({'rating': 'count'}).sort_values(by='rating', ascending=False)\n"
      ],
      "execution_count": 12,
      "outputs": [
        {
          "output_type": "execute_result",
          "data": {
            "text/html": [
              "<div>\n",
              "<style scoped>\n",
              "    .dataframe tbody tr th:only-of-type {\n",
              "        vertical-align: middle;\n",
              "    }\n",
              "\n",
              "    .dataframe tbody tr th {\n",
              "        vertical-align: top;\n",
              "    }\n",
              "\n",
              "    .dataframe thead th {\n",
              "        text-align: right;\n",
              "    }\n",
              "</style>\n",
              "<table border=\"1\" class=\"dataframe\">\n",
              "  <thead>\n",
              "    <tr style=\"text-align: right;\">\n",
              "      <th></th>\n",
              "      <th>rating</th>\n",
              "    </tr>\n",
              "    <tr>\n",
              "      <th>userId</th>\n",
              "      <th></th>\n",
              "    </tr>\n",
              "  </thead>\n",
              "  <tbody>\n",
              "    <tr>\n",
              "      <th>117490</th>\n",
              "      <td>9279</td>\n",
              "    </tr>\n",
              "    <tr>\n",
              "      <th>134596</th>\n",
              "      <td>8381</td>\n",
              "    </tr>\n",
              "    <tr>\n",
              "      <th>212343</th>\n",
              "      <td>7884</td>\n",
              "    </tr>\n",
              "    <tr>\n",
              "      <th>242683</th>\n",
              "      <td>7515</td>\n",
              "    </tr>\n",
              "    <tr>\n",
              "      <th>111908</th>\n",
              "      <td>6645</td>\n",
              "    </tr>\n",
              "    <tr>\n",
              "      <th>...</th>\n",
              "      <td>...</td>\n",
              "    </tr>\n",
              "    <tr>\n",
              "      <th>188125</th>\n",
              "      <td>1</td>\n",
              "    </tr>\n",
              "    <tr>\n",
              "      <th>117282</th>\n",
              "      <td>1</td>\n",
              "    </tr>\n",
              "    <tr>\n",
              "      <th>127062</th>\n",
              "      <td>1</td>\n",
              "    </tr>\n",
              "    <tr>\n",
              "      <th>241836</th>\n",
              "      <td>1</td>\n",
              "    </tr>\n",
              "    <tr>\n",
              "      <th>265726</th>\n",
              "      <td>1</td>\n",
              "    </tr>\n",
              "  </tbody>\n",
              "</table>\n",
              "<p>283227 rows × 1 columns</p>\n",
              "</div>"
            ],
            "text/plain": [
              "        rating\n",
              "userId        \n",
              "117490    9279\n",
              "134596    8381\n",
              "212343    7884\n",
              "242683    7515\n",
              "111908    6645\n",
              "...        ...\n",
              "188125       1\n",
              "117282       1\n",
              "127062       1\n",
              "241836       1\n",
              "265726       1\n",
              "\n",
              "[283227 rows x 1 columns]"
            ]
          },
          "metadata": {
            "tags": []
          },
          "execution_count": 12
        }
      ]
    },
    {
      "cell_type": "markdown",
      "metadata": {
        "id": "yKoUs0UmGnlC",
        "colab_type": "text"
      },
      "source": [
        "## Saving the initial ratings file to my Google Drive"
      ]
    },
    {
      "cell_type": "code",
      "metadata": {
        "id": "Mwa5oGTGPbQ1",
        "colab_type": "code",
        "colab": {
          "base_uri": "https://localhost:8080/",
          "height": 170
        },
        "outputId": "5219b143-1419-4b14-970a-519f98227fe3"
      },
      "source": [
        "rating2.to_csv('ratings.zip', compression={'archive_name':'rating2.csv','method':'zip'}, index=False)\n",
        "# File save\n",
        "! cp ratings.zip '/content/gdrive/My Drive/'\n",
        "! ls '/content/gdrive/My Drive/'\n"
      ],
      "execution_count": 13,
      "outputs": [
        {
          "output_type": "stream",
          "text": [
            "'Capstone #2: Final report.gdoc'\n",
            "'Copy of TEMPLATE_Track companies and contacts.gsheet'\n",
            " Data\n",
            " foo.txt\n",
            "'Getting started.pdf'\n",
            "\"Imbalanced classes in Naive Bayes' classifiers.gdoc\"\n",
            "'Notes on three informational interviews.gdoc'\n",
            " ratings.zip\n",
            "'Statistical techniques database.gsheet'\n"
          ],
          "name": "stdout"
        }
      ]
    },
    {
      "cell_type": "markdown",
      "metadata": {
        "id": "xWkLrgMd21p6",
        "colab_type": "text"
      },
      "source": [
        "### Reading that file back"
      ]
    },
    {
      "cell_type": "code",
      "metadata": {
        "id": "qkNTYipuHcbG",
        "colab_type": "code",
        "colab": {
          "base_uri": "https://localhost:8080/",
          "height": 204
        },
        "outputId": "a36c50f4-0263-47e3-ce93-5f1798031242"
      },
      "source": [
        "ratings_df = pd.read_csv('/content/gdrive/My Drive/ratings.zip')\n",
        "ratings_df.head()"
      ],
      "execution_count": 14,
      "outputs": [
        {
          "output_type": "execute_result",
          "data": {
            "text/html": [
              "<div>\n",
              "<style scoped>\n",
              "    .dataframe tbody tr th:only-of-type {\n",
              "        vertical-align: middle;\n",
              "    }\n",
              "\n",
              "    .dataframe tbody tr th {\n",
              "        vertical-align: top;\n",
              "    }\n",
              "\n",
              "    .dataframe thead th {\n",
              "        text-align: right;\n",
              "    }\n",
              "</style>\n",
              "<table border=\"1\" class=\"dataframe\">\n",
              "  <thead>\n",
              "    <tr style=\"text-align: right;\">\n",
              "      <th></th>\n",
              "      <th>userId</th>\n",
              "      <th>movieId</th>\n",
              "      <th>rating</th>\n",
              "      <th>rating_date</th>\n",
              "      <th>canonical</th>\n",
              "    </tr>\n",
              "  </thead>\n",
              "  <tbody>\n",
              "    <tr>\n",
              "      <th>0</th>\n",
              "      <td>1</td>\n",
              "      <td>307</td>\n",
              "      <td>3.5</td>\n",
              "      <td>2009-10-27</td>\n",
              "      <td>1</td>\n",
              "    </tr>\n",
              "    <tr>\n",
              "      <th>1</th>\n",
              "      <td>1</td>\n",
              "      <td>481</td>\n",
              "      <td>3.5</td>\n",
              "      <td>2009-10-27</td>\n",
              "      <td>0</td>\n",
              "    </tr>\n",
              "    <tr>\n",
              "      <th>2</th>\n",
              "      <td>1</td>\n",
              "      <td>1091</td>\n",
              "      <td>1.5</td>\n",
              "      <td>2009-10-27</td>\n",
              "      <td>0</td>\n",
              "    </tr>\n",
              "    <tr>\n",
              "      <th>3</th>\n",
              "      <td>1</td>\n",
              "      <td>1257</td>\n",
              "      <td>4.5</td>\n",
              "      <td>2009-10-27</td>\n",
              "      <td>0</td>\n",
              "    </tr>\n",
              "    <tr>\n",
              "      <th>4</th>\n",
              "      <td>1</td>\n",
              "      <td>1449</td>\n",
              "      <td>4.5</td>\n",
              "      <td>2009-10-27</td>\n",
              "      <td>0</td>\n",
              "    </tr>\n",
              "  </tbody>\n",
              "</table>\n",
              "</div>"
            ],
            "text/plain": [
              "   userId  movieId  rating rating_date  canonical\n",
              "0       1      307     3.5  2009-10-27          1\n",
              "1       1      481     3.5  2009-10-27          0\n",
              "2       1     1091     1.5  2009-10-27          0\n",
              "3       1     1257     4.5  2009-10-27          0\n",
              "4       1     1449     4.5  2009-10-27          0"
            ]
          },
          "metadata": {
            "tags": []
          },
          "execution_count": 14
        }
      ]
    },
    {
      "cell_type": "markdown",
      "metadata": {
        "id": "vUEV3hUj4ng-",
        "colab_type": "text"
      },
      "source": [
        "### Now to make the file with all the snobbery indices"
      ]
    },
    {
      "cell_type": "code",
      "metadata": {
        "id": "pkuN0N-x-gpC",
        "colab_type": "code",
        "colab": {}
      },
      "source": [
        ""
      ],
      "execution_count": null,
      "outputs": []
    }
  ]
}