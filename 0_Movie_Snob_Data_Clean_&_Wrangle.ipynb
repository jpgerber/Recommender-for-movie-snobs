{
  "nbformat": 4,
  "nbformat_minor": 0,
  "metadata": {
    "colab": {
      "name": "0 Movie Snob - Data Clean & Wrangle.ipynb",
      "provenance": [],
      "collapsed_sections": [],
      "authorship_tag": "ABX9TyM+nt0K1GpDOIYhW741YLfK",
      "include_colab_link": true
    },
    "kernelspec": {
      "name": "python3",
      "display_name": "Python 3"
    }
  },
  "cells": [
    {
      "cell_type": "markdown",
      "metadata": {
        "id": "view-in-github",
        "colab_type": "text"
      },
      "source": [
        "<a href=\"https://colab.research.google.com/github/jpgerber/Recommender-for-movie-snobs/blob/master/0_Movie_Snob_Data_Clean_%26_Wrangle.ipynb\" target=\"_parent\"><img src=\"https://colab.research.google.com/assets/colab-badge.svg\" alt=\"Open In Colab\"/></a>"
      ]
    },
    {
      "cell_type": "markdown",
      "metadata": {
        "id": "De4K4_JTy55Y",
        "colab_type": "text"
      },
      "source": [
        "# This notebook cleans and combines the MovieLens data with a canonical movie list."
      ]
    },
    {
      "cell_type": "code",
      "metadata": {
        "id": "VHeXVgjNB6Jt",
        "colab_type": "code",
        "colab": {}
      },
      "source": [
        "import pandas as pd\n",
        "import numpy as np\n",
        "import requests\n",
        "from bs4 import BeautifulSoup\n",
        "import zipfile, io\n",
        "\n",
        "# Make the canonical list\n",
        "# Importing the 1,001 list and converting it to a list\n",
        "snob_url = 'https://1001films.fandom.com/wiki/The_List'\n",
        "snob_text= requests.get(snob_url)\n",
        "soup = BeautifulSoup(snob_text.content, 'html.parser')\n",
        "basic_list = (soup.body.find_all('b'))\n",
        "thousand_list = [item.text for item in basic_list]\n",
        "thousandone_movies = pd.DataFrame(thousand_list, columns = ['title']).drop(0) # Convert to df\n"
      ],
      "execution_count": 5,
      "outputs": []
    },
    {
      "cell_type": "code",
      "metadata": {
        "id": "Vm15s-2LxVr0",
        "colab_type": "code",
        "colab": {}
      },
      "source": [
        "# Get the MovieLens dataset\n",
        "# Importing the ratings data\n",
        "# First download and extract the files (there's a bunch so use a list and loop)\n",
        "list_of_urls = ['http://files.grouplens.org/datasets/movielens/ml-latest.zip']\n",
        "for url in list_of_urls:\n",
        "    ratings_small_file = requests.get(url)\n",
        "    z = zipfile.ZipFile(io.BytesIO(ratings_small_file.content))\n",
        "    z.extractall()\n",
        "\n",
        "ed_large_movies = pd.read_csv('ml-latest/movies.csv', sep = ',', header = 0) # Make the df\n"
      ],
      "execution_count": 7,
      "outputs": []
    },
    {
      "cell_type": "markdown",
      "metadata": {
        "id": "tRcLEUWLzSs_",
        "colab_type": "text"
      },
      "source": [
        "##### There will be lots of different types of cleaning.\n",
        "First, extract the year of release from the string titles"
      ]
    },
    {
      "cell_type": "code",
      "metadata": {
        "id": "BxaoRko0x2yP",
        "colab_type": "code",
        "colab": {}
      },
      "source": [
        "# Create columns of movie years in each database\n",
        "# Make sure the titles don't have trailing spaces\n",
        "thousandone_movies['title'] = thousandone_movies['title'].str.rstrip()\n",
        "ed_large_movies['title'] = ed_large_movies['title'].str.rstrip()\n",
        "# Then take the slices (the years are in parantheses at the end of the title)\n",
        "thousandone_movies['year'] = [title[slice(-5,-1)] for title in thousandone_movies['title']]\n",
        "ed_large_movies['year'] = [title[slice(-5,-1)] for title in ed_large_movies['title']]\n",
        "\n",
        "# Then convert these strings to numbers (there is one title missing a year!)\n",
        "# Define a conversion function\n",
        "def ConvertYear(value):\n",
        "    '''This function converts integer strings to integers and non-integer strings to zero'''\n",
        "    try:\n",
        "        return int(value)\n",
        "    except: \n",
        "        return 0\n",
        "# Then apply it to the columns for both thousandone_movies and ed_choices\n",
        "thousandone_movies['year'] = thousandone_movies['year'].apply(lambda year: ConvertYear(\n",
        "    year))\n",
        "ed_large_movies['year'] = ed_large_movies['year'].apply(lambda year: ConvertYear(year))\n"
      ],
      "execution_count": 11,
      "outputs": []
    },
    {
      "cell_type": "markdown",
      "metadata": {
        "id": "rgo3UUMUy8lX",
        "colab_type": "text"
      },
      "source": [
        "Then make a custom function to test three years at a time and return the best string match."
      ]
    },
    {
      "cell_type": "code",
      "metadata": {
        "id": "QbKbafa3x536",
        "colab_type": "code",
        "colab": {
          "base_uri": "https://localhost:8080/",
          "height": 139
        },
        "outputId": "cea15512-52ec-4774-b2f8-a9cb3a4ce992"
      },
      "source": [
        "!pip install fuzzywuzzy \n",
        "from fuzzywuzzy import fuzz\n",
        "from fuzzywuzzy import process\n",
        "# Specify the matching function (we only need one of the outputs)\n",
        "def Matcher(title, choices):\n",
        "    title_match, percent_match, match3 = process.extractOne(title, choices)\n",
        "    return title_match\n",
        "# And here's a function for using the tokenizer\n",
        "def Matcher_token(title, choices):\n",
        "    title_match, percent_match, match3 = process.extractOne(title, choices, \n",
        "                                                            scorer=fuzz.token_sort_ratio)\n",
        "    return title_match\n",
        "\n",
        "#Define a filter to return targets for +/-1 year only\n",
        "def YearFilter (year):\n",
        "    years = [year-1, year, year+1]\n",
        "    return ed_large_movies[ed_large_movies.year.isin(years)].title\n",
        "\n",
        "# Running the tokenizer over the filtered target set\n",
        "for index, row in thousandone_movies.iterrows():\n",
        "    # call the filter\n",
        "    targets = YearFilter(row.year)\n",
        "    # update the new cell work out the matcher\n",
        "    thousandone_movies.loc[index,'return_match'] = Matcher_token(row.title, targets)\n"
      ],
      "execution_count": 15,
      "outputs": [
        {
          "output_type": "stream",
          "text": [
            "Collecting fuzzywuzzy\n",
            "  Downloading https://files.pythonhosted.org/packages/43/ff/74f23998ad2f93b945c0309f825be92e04e0348e062026998b5eefef4c33/fuzzywuzzy-0.18.0-py2.py3-none-any.whl\n",
            "Installing collected packages: fuzzywuzzy\n",
            "Successfully installed fuzzywuzzy-0.18.0\n"
          ],
          "name": "stdout"
        },
        {
          "output_type": "stream",
          "text": [
            "/usr/local/lib/python3.6/dist-packages/fuzzywuzzy/fuzz.py:11: UserWarning: Using slow pure-python SequenceMatcher. Install python-Levenshtein to remove this warning\n",
            "  warnings.warn('Using slow pure-python SequenceMatcher. Install python-Levenshtein to remove this warning')\n"
          ],
          "name": "stderr"
        }
      ]
    },
    {
      "cell_type": "markdown",
      "metadata": {
        "id": "hgPklSsX0SNf",
        "colab_type": "text"
      },
      "source": [
        "Now hand-code the mismatches..."
      ]
    },
    {
      "cell_type": "code",
      "metadata": {
        "id": "0d5nOhhF0uxF",
        "colab_type": "code",
        "colab": {
          "base_uri": "https://localhost:8080/",
          "height": 204
        },
        "outputId": "d573edb8-c8da-4a95-e8f9-6724c892c28f"
      },
      "source": [
        "thousandone_movies.head()"
      ],
      "execution_count": 18,
      "outputs": [
        {
          "output_type": "execute_result",
          "data": {
            "text/html": [
              "<div>\n",
              "<style scoped>\n",
              "    .dataframe tbody tr th:only-of-type {\n",
              "        vertical-align: middle;\n",
              "    }\n",
              "\n",
              "    .dataframe tbody tr th {\n",
              "        vertical-align: top;\n",
              "    }\n",
              "\n",
              "    .dataframe thead th {\n",
              "        text-align: right;\n",
              "    }\n",
              "</style>\n",
              "<table border=\"1\" class=\"dataframe\">\n",
              "  <thead>\n",
              "    <tr style=\"text-align: right;\">\n",
              "      <th></th>\n",
              "      <th>title</th>\n",
              "      <th>year</th>\n",
              "      <th>return_match</th>\n",
              "    </tr>\n",
              "  </thead>\n",
              "  <tbody>\n",
              "    <tr>\n",
              "      <th>1</th>\n",
              "      <td>A Trip to the Moon (Le Voyage Dans La Lune) (1...</td>\n",
              "      <td>1902</td>\n",
              "      <td>Trip to the Moon, A (Voyage dans la lune, Le) ...</td>\n",
              "    </tr>\n",
              "    <tr>\n",
              "      <th>2</th>\n",
              "      <td>The Great Train Robbery (1903)</td>\n",
              "      <td>1903</td>\n",
              "      <td>The Great Train Robbery (1903)</td>\n",
              "    </tr>\n",
              "    <tr>\n",
              "      <th>3</th>\n",
              "      <td>The Birth of a Nation (1915)</td>\n",
              "      <td>1915</td>\n",
              "      <td>Birth of a Nation, The (1915)</td>\n",
              "    </tr>\n",
              "    <tr>\n",
              "      <th>4</th>\n",
              "      <td>Les Vampires (1915)</td>\n",
              "      <td>1915</td>\n",
              "      <td>Vampires, Les (1915)</td>\n",
              "    </tr>\n",
              "    <tr>\n",
              "      <th>5</th>\n",
              "      <td>Intolerance (1916)</td>\n",
              "      <td>1916</td>\n",
              "      <td>Police (1916)</td>\n",
              "    </tr>\n",
              "  </tbody>\n",
              "</table>\n",
              "</div>"
            ],
            "text/plain": [
              "                                               title  ...                                       return_match\n",
              "1  A Trip to the Moon (Le Voyage Dans La Lune) (1...  ...  Trip to the Moon, A (Voyage dans la lune, Le) ...\n",
              "2                     The Great Train Robbery (1903)  ...                     The Great Train Robbery (1903)\n",
              "3                       The Birth of a Nation (1915)  ...                      Birth of a Nation, The (1915)\n",
              "4                                Les Vampires (1915)  ...                               Vampires, Les (1915)\n",
              "5                                 Intolerance (1916)  ...                                      Police (1916)\n",
              "\n",
              "[5 rows x 3 columns]"
            ]
          },
          "metadata": {
            "tags": []
          },
          "execution_count": 18
        }
      ]
    },
    {
      "cell_type": "code",
      "metadata": {
        "id": "iFS7OuiiB7yL",
        "colab_type": "code",
        "colab": {}
      },
      "source": [
        "\n",
        "Intolerance (1916) - 7243\n",
        "Broken Blossoms (1919) - 6988\n",
        "Häxan (1923) - 25744\n",
        "Sunrise (1927) - 8125\n",
        "The Unknown (1927) - 25762\n",
        "A Throw of Dice (Prapancha Pash) (1929) - NONE\n",
        "Tabu (1931) - 5599\n",
        "The Vampire (Vampyr) (1932) - 25793\n",
        "Scarface: The Shame of a Nation (1932) - 25788\n",
        "Midnight Song (Ye Ban Ge Sheng) (1937) - None\n",
        "Henry V (1944) - 25901\n",
        "The Battle of San Pietro (1945) - 80104\n",
        "Gun Crazy (1949) - 8751\n",
        "Sunset Blvd. (1950) - 922\n",
        "Europa '51 (1952) - 25966\n",
        "Tokyo Story (1953) - 6643\n",
        "The Wanton Countess (Senso) (1954) - 69911\n",
        "The Sins of Lola Montes (Lola Montès) (1955) - 8143\n",
        "Pather Panchali (1955) - 668\n",
        "Ordet (1955) - 6981\n",
        "Hill 24 Doesn't Answer (1955) - NONE\n",
        "Dracula (1958) - 5649\n",
        "Dog Star Man - 137579\t137581\t137583\t137585\t137587\n",
        "Blonde Cobra (1963) - None\n",
        "Playtime (1967) - 26171\n",
        "Week End (1967) - 7749\n",
        "Viy (1967) - 97065\n",
        "Andrei Rublev (Andrei Rublyov) (1966) - 26150\n",
        "A Touch of Zen (Hsia Nu) (1969) - 32511\n",
        "M*A*S*H (1970) - 5060\n",
        "The Sorrow and the Pity (La Chagrin et la Pitié) (1971) - 32853\n",
        "Ceddo (1977) - 71973\n",
        "Up in Smoke (1978) - 1194\n",
        "Raiders of the Lost Ark (1981) - 1198\n",
        "Yol (1982) - 6151\n",
        "Koyaanisqatsi (1983) - 1289\n",
        "The Naked Gun (1988) - 3868\n",
        "Henry: Portrait of a Serial Killer (1990) - 2159\n",
        "The Actress (Yuen Ling-Yuk) (1992) - 114394\n",
        "Hana-Bi (1997) - 1809\n",
        "Buffalo '66 (1998) - 1916\n",
        "Tetsuo (1989) - 4552\n",
        "A One and a Two (Yi Yi) (2000) - 4334\n",
        "Y Tu Mama Tambien (2001) - 5225\n",
        "Oldboy (2003) - 107314\n",
        "Paranormal Activity (2007) - 71379\n",
        "Precious: Based on the Novel \"Push\" by Sapphire (2009) - 72395\n",
        "The Favourite (2018) - 183837\n",
        "Vice (2018) - 127323"
      ],
      "execution_count": 2,
      "outputs": []
    },
    {
      "cell_type": "code",
      "metadata": {
        "id": "KGVhw3PEqY0q",
        "colab_type": "code",
        "colab": {
          "base_uri": "https://localhost:8080/",
          "height": 638
        },
        "outputId": "7b619ae1-f3d6-4dfd-d545-11ddbac1139d"
      },
      "source": [
        "# Matching all the weird ones\n",
        "\n",
        "ed_large_movies[ed_large_movies['title'].str.contains('Vice')]"
      ],
      "execution_count": 101,
      "outputs": [
        {
          "output_type": "execute_result",
          "data": {
            "text/html": [
              "<div>\n",
              "<style scoped>\n",
              "    .dataframe tbody tr th:only-of-type {\n",
              "        vertical-align: middle;\n",
              "    }\n",
              "\n",
              "    .dataframe tbody tr th {\n",
              "        vertical-align: top;\n",
              "    }\n",
              "\n",
              "    .dataframe thead th {\n",
              "        text-align: right;\n",
              "    }\n",
              "</style>\n",
              "<table border=\"1\" class=\"dataframe\">\n",
              "  <thead>\n",
              "    <tr style=\"text-align: right;\">\n",
              "      <th></th>\n",
              "      <th>movieId</th>\n",
              "      <th>title</th>\n",
              "      <th>genres</th>\n",
              "      <th>year</th>\n",
              "    </tr>\n",
              "  </thead>\n",
              "  <tbody>\n",
              "    <tr>\n",
              "      <th>4465</th>\n",
              "      <td>4559</td>\n",
              "      <td>Vice Versa (1988)</td>\n",
              "      <td>Comedy</td>\n",
              "      <td>1988</td>\n",
              "    </tr>\n",
              "    <tr>\n",
              "      <th>11199</th>\n",
              "      <td>47044</td>\n",
              "      <td>Miami Vice (2006)</td>\n",
              "      <td>Action|Crime|Drama|Thriller</td>\n",
              "      <td>2006</td>\n",
              "    </tr>\n",
              "    <tr>\n",
              "      <th>11651</th>\n",
              "      <td>50977</td>\n",
              "      <td>Vice Squad (1982)</td>\n",
              "      <td>Action|Thriller</td>\n",
              "      <td>1982</td>\n",
              "    </tr>\n",
              "    <tr>\n",
              "      <th>15087</th>\n",
              "      <td>76063</td>\n",
              "      <td>Your Vice is a Locked Room and Only I Have the...</td>\n",
              "      <td>Horror|Mystery|Thriller</td>\n",
              "      <td>1972</td>\n",
              "    </tr>\n",
              "    <tr>\n",
              "      <th>17213</th>\n",
              "      <td>86635</td>\n",
              "      <td>Vice (2008)</td>\n",
              "      <td>Crime|Film-Noir|Mystery|Thriller</td>\n",
              "      <td>2008</td>\n",
              "    </tr>\n",
              "    <tr>\n",
              "      <th>17635</th>\n",
              "      <td>88228</td>\n",
              "      <td>Vice Squad (1953)</td>\n",
              "      <td>Crime|Drama</td>\n",
              "      <td>1953</td>\n",
              "    </tr>\n",
              "    <tr>\n",
              "      <th>25452</th>\n",
              "      <td>116799</td>\n",
              "      <td>Inherent Vice (2014)</td>\n",
              "      <td>Comedy|Crime|Drama|Mystery|Romance</td>\n",
              "      <td>2014</td>\n",
              "    </tr>\n",
              "    <tr>\n",
              "      <th>25851</th>\n",
              "      <td>117958</td>\n",
              "      <td>Vice Versa (1948)</td>\n",
              "      <td>Comedy</td>\n",
              "      <td>1948</td>\n",
              "    </tr>\n",
              "    <tr>\n",
              "      <th>26913</th>\n",
              "      <td>121432</td>\n",
              "      <td>The Man Who Shook the Hand of Vicente Fernande...</td>\n",
              "      <td>Comedy|Drama|Western</td>\n",
              "      <td>2012</td>\n",
              "    </tr>\n",
              "    <tr>\n",
              "      <th>27049</th>\n",
              "      <td>121769</td>\n",
              "      <td>Vice Raid (1960)</td>\n",
              "      <td>Crime|Drama</td>\n",
              "      <td>1960</td>\n",
              "    </tr>\n",
              "    <tr>\n",
              "      <th>29322</th>\n",
              "      <td>127323</td>\n",
              "      <td>Vice (2015)</td>\n",
              "      <td>Action|Adventure|Sci-Fi|Thriller</td>\n",
              "      <td>2015</td>\n",
              "    </tr>\n",
              "    <tr>\n",
              "      <th>30736</th>\n",
              "      <td>131292</td>\n",
              "      <td>Private Vices, Public Virtues (1976)</td>\n",
              "      <td>Drama|War</td>\n",
              "      <td>1976</td>\n",
              "    </tr>\n",
              "    <tr>\n",
              "      <th>34741</th>\n",
              "      <td>140705</td>\n",
              "      <td>Hollywood Vice Squad (1986)</td>\n",
              "      <td>Action|Comedy</td>\n",
              "      <td>1986</td>\n",
              "    </tr>\n",
              "    <tr>\n",
              "      <th>38072</th>\n",
              "      <td>148542</td>\n",
              "      <td>Where Can You Go Without the Little Vice? (1979)</td>\n",
              "      <td>Comedy</td>\n",
              "      <td>1979</td>\n",
              "    </tr>\n",
              "    <tr>\n",
              "      <th>38448</th>\n",
              "      <td>149470</td>\n",
              "      <td>Love, Pain and Vice Versa (2008)</td>\n",
              "      <td>Romance|Thriller</td>\n",
              "      <td>2008</td>\n",
              "    </tr>\n",
              "    <tr>\n",
              "      <th>39693</th>\n",
              "      <td>152537</td>\n",
              "      <td>No Minor Vices (1948)</td>\n",
              "      <td>(no genres listed)</td>\n",
              "      <td>1948</td>\n",
              "    </tr>\n",
              "    <tr>\n",
              "      <th>45623</th>\n",
              "      <td>165935</td>\n",
              "      <td>Vice and Virtue (1963)</td>\n",
              "      <td>Comedy|Drama</td>\n",
              "      <td>1963</td>\n",
              "    </tr>\n",
              "    <tr>\n",
              "      <th>47312</th>\n",
              "      <td>169632</td>\n",
              "      <td>Greg Giraldo: Midlife Vices (2009)</td>\n",
              "      <td>Comedy</td>\n",
              "      <td>2009</td>\n",
              "    </tr>\n",
              "    <tr>\n",
              "      <th>47760</th>\n",
              "      <td>170637</td>\n",
              "      <td>Viceroy's House (2017)</td>\n",
              "      <td>Drama</td>\n",
              "      <td>2017</td>\n",
              "    </tr>\n",
              "  </tbody>\n",
              "</table>\n",
              "</div>"
            ],
            "text/plain": [
              "       movieId  ...  year\n",
              "4465      4559  ...  1988\n",
              "11199    47044  ...  2006\n",
              "11651    50977  ...  1982\n",
              "15087    76063  ...  1972\n",
              "17213    86635  ...  2008\n",
              "17635    88228  ...  1953\n",
              "25452   116799  ...  2014\n",
              "25851   117958  ...  1948\n",
              "26913   121432  ...  2012\n",
              "27049   121769  ...  1960\n",
              "29322   127323  ...  2015\n",
              "30736   131292  ...  1976\n",
              "34741   140705  ...  1986\n",
              "38072   148542  ...  1979\n",
              "38448   149470  ...  2008\n",
              "39693   152537  ...  1948\n",
              "45623   165935  ...  1963\n",
              "47312   169632  ...  2009\n",
              "47760   170637  ...  2017\n",
              "\n",
              "[19 rows x 4 columns]"
            ]
          },
          "metadata": {
            "tags": []
          },
          "execution_count": 101
        }
      ]
    },
    {
      "cell_type": "markdown",
      "metadata": {
        "id": "1dmNIWGz0lMP",
        "colab_type": "text"
      },
      "source": [
        "Join the canonical list to the ratings list"
      ]
    },
    {
      "cell_type": "code",
      "metadata": {
        "id": "BW9z6wOgqrd7",
        "colab_type": "code",
        "colab": {}
      },
      "source": [
        "# Add the indicator variable to the canonical list.\n",
        "thousandone_movies['canonical'] = 1\n",
        "#print(thousandone_movies.head())\n",
        "\n",
        "# Add the canonical indicator to the movie file, drop the irrelevant columns \n",
        "#and fill the missing values with zeroes\n",
        "ed_large_movies = pd.merge(ed_large_movies, thousandone_movies, left_on='title', right_on='return_match', how='outer', \n",
        "         suffixes=('', '_canon')).drop(['year_canon', \n",
        "                                        'return_match', 'title_canon'], axis=1).fillna({'canonical':0})\n",
        "\n",
        "print(ed_large_movies.head())"
      ],
      "execution_count": 4,
      "outputs": []
    },
    {
      "cell_type": "code",
      "metadata": {
        "id": "Dezz4x4wsxYo",
        "colab_type": "code",
        "colab": {
          "base_uri": "https://localhost:8080/",
          "height": 452
        },
        "outputId": "1af0726b-f3bc-4ee6-af7e-abf0b1a7abd2"
      },
      "source": [
        ""
      ],
      "execution_count": 34,
      "outputs": [
        {
          "output_type": "execute_result",
          "data": {
            "text/html": [
              "<div>\n",
              "<style scoped>\n",
              "    .dataframe tbody tr th:only-of-type {\n",
              "        vertical-align: middle;\n",
              "    }\n",
              "\n",
              "    .dataframe tbody tr th {\n",
              "        vertical-align: top;\n",
              "    }\n",
              "\n",
              "    .dataframe thead th {\n",
              "        text-align: right;\n",
              "    }\n",
              "</style>\n",
              "<table border=\"1\" class=\"dataframe\">\n",
              "  <thead>\n",
              "    <tr style=\"text-align: right;\">\n",
              "      <th></th>\n",
              "      <th>movieId</th>\n",
              "      <th>title</th>\n",
              "      <th>genres</th>\n",
              "      <th>year</th>\n",
              "    </tr>\n",
              "  </thead>\n",
              "  <tbody>\n",
              "    <tr>\n",
              "      <th>6877</th>\n",
              "      <td>6988</td>\n",
              "      <td>Broken Blossoms or The Yellow Man and the Girl...</td>\n",
              "      <td>Drama|Romance</td>\n",
              "      <td>1919</td>\n",
              "    </tr>\n",
              "    <tr>\n",
              "      <th>10040</th>\n",
              "      <td>33001</td>\n",
              "      <td>Blossoms in the Dust (1941)</td>\n",
              "      <td>Drama</td>\n",
              "      <td>1941</td>\n",
              "    </tr>\n",
              "    <tr>\n",
              "      <th>13735</th>\n",
              "      <td>68472</td>\n",
              "      <td>Cherry Blossoms (Kirschblüten - Hanami) (2008)</td>\n",
              "      <td>Drama|Romance</td>\n",
              "      <td>2008</td>\n",
              "    </tr>\n",
              "    <tr>\n",
              "      <th>16397</th>\n",
              "      <td>82330</td>\n",
              "      <td>Blossoming of Maximo Oliveros, The (Ang pagdad...</td>\n",
              "      <td>Comedy|Drama</td>\n",
              "      <td>2005</td>\n",
              "    </tr>\n",
              "    <tr>\n",
              "      <th>20242</th>\n",
              "      <td>98936</td>\n",
              "      <td>All Blossoms Again: Pedro Costa, Director (Tou...</td>\n",
              "      <td>Documentary</td>\n",
              "      <td>2006</td>\n",
              "    </tr>\n",
              "    <tr>\n",
              "      <th>27622</th>\n",
              "      <td>123046</td>\n",
              "      <td>The Tsunami and the Cherry Blossom (2011)</td>\n",
              "      <td>Documentary</td>\n",
              "      <td>2011</td>\n",
              "    </tr>\n",
              "    <tr>\n",
              "      <th>30198</th>\n",
              "      <td>130000</td>\n",
              "      <td>Broken Blossoms (1936)</td>\n",
              "      <td>Drama|Romance</td>\n",
              "      <td>1936</td>\n",
              "    </tr>\n",
              "    <tr>\n",
              "      <th>41123</th>\n",
              "      <td>155788</td>\n",
              "      <td>The Bliss of Mrs. Blossom (1968)</td>\n",
              "      <td>Comedy|Romance</td>\n",
              "      <td>1968</td>\n",
              "    </tr>\n",
              "    <tr>\n",
              "      <th>43771</th>\n",
              "      <td>161908</td>\n",
              "      <td>Plum Blossom (2000)</td>\n",
              "      <td>Drama|Romance</td>\n",
              "      <td>2000</td>\n",
              "    </tr>\n",
              "    <tr>\n",
              "      <th>48689</th>\n",
              "      <td>172565</td>\n",
              "      <td>Under the Blossoming Cherry Trees (1975)</td>\n",
              "      <td>Fantasy|Horror</td>\n",
              "      <td>1975</td>\n",
              "    </tr>\n",
              "    <tr>\n",
              "      <th>49858</th>\n",
              "      <td>175123</td>\n",
              "      <td>Chu and Blossom (2014)</td>\n",
              "      <td>Comedy</td>\n",
              "      <td>2014</td>\n",
              "    </tr>\n",
              "    <tr>\n",
              "      <th>51791</th>\n",
              "      <td>179369</td>\n",
              "      <td>Blossoms &amp; Blood (2003)</td>\n",
              "      <td>(no genres listed)</td>\n",
              "      <td>2003</td>\n",
              "    </tr>\n",
              "    <tr>\n",
              "      <th>51891</th>\n",
              "      <td>179581</td>\n",
              "      <td>Love Blossoms (2017)</td>\n",
              "      <td>Drama|Romance</td>\n",
              "      <td>2017</td>\n",
              "    </tr>\n",
              "  </tbody>\n",
              "</table>\n",
              "</div>"
            ],
            "text/plain": [
              "       movieId  ...  year\n",
              "6877      6988  ...  1919\n",
              "10040    33001  ...  1941\n",
              "13735    68472  ...  2008\n",
              "16397    82330  ...  2005\n",
              "20242    98936  ...  2006\n",
              "27622   123046  ...  2011\n",
              "30198   130000  ...  1936\n",
              "41123   155788  ...  1968\n",
              "43771   161908  ...  2000\n",
              "48689   172565  ...  1975\n",
              "49858   175123  ...  2014\n",
              "51791   179369  ...  2003\n",
              "51891   179581  ...  2017\n",
              "\n",
              "[13 rows x 4 columns]"
            ]
          },
          "metadata": {
            "tags": []
          },
          "execution_count": 34
        }
      ]
    },
    {
      "cell_type": "code",
      "metadata": {
        "id": "1VgweeXP07c8",
        "colab_type": "code",
        "colab": {}
      },
      "source": [
        "Intolerance 7243"
      ],
      "execution_count": null,
      "outputs": []
    }
  ]
}